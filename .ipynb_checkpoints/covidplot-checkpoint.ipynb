{
 "cells": [
  {
   "cell_type": "markdown",
   "id": "d569e07a-52f8-4a2f-8a1e-517ed9fd61fe",
   "metadata": {},
   "source": [
    "# MTA vs COVID plot"
   ]
  },
  {
   "cell_type": "markdown",
   "id": "f6d6cd50-df0b-4e8b-8099-ef354a5a0e8c",
   "metadata": {},
   "source": [
    "___"
   ]
  },
  {
   "cell_type": "markdown",
   "id": "3eaa2a8f-1336-410f-9724-5eec5a72c2c7",
   "metadata": {},
   "source": [
    "# MTA data"
   ]
  },
  {
   "cell_type": "markdown",
   "id": "7d2f17f1-0fb4-467b-af84-132a4ad033d4",
   "metadata": {},
   "source": [
    "## Read .db data with SQLAlchemy"
   ]
  },
  {
   "cell_type": "code",
   "execution_count": 247,
   "id": "912ae5b5-cc91-485e-b0a2-ec887de53424",
   "metadata": {},
   "outputs": [],
   "source": [
    "from sqlalchemy import create_engine"
   ]
  },
  {
   "cell_type": "code",
   "execution_count": 332,
   "id": "c4f22cf2-4692-434b-9d87-f380bba1ed08",
   "metadata": {},
   "outputs": [],
   "source": [
    "engine = create_engine(\"sqlite:///mta_data_2015.db\")"
   ]
  },
  {
   "cell_type": "code",
   "execution_count": 333,
   "id": "db78b757-2eb2-4d7d-9f53-453b862ed20b",
   "metadata": {},
   "outputs": [
    {
     "data": {
      "text/plain": [
       "['mta_data']"
      ]
     },
     "execution_count": 333,
     "metadata": {},
     "output_type": "execute_result"
    }
   ],
   "source": [
    "engine.table_names()"
   ]
  },
  {
   "cell_type": "code",
   "execution_count": 334,
   "id": "62de7d3e-fba4-46ac-b4b4-e44b81f07038",
   "metadata": {},
   "outputs": [],
   "source": [
    "import pandas as pd"
   ]
  },
  {
   "cell_type": "code",
   "execution_count": 335,
   "id": "f3a06c9b-f93a-4af2-999f-157b5eafbeea",
   "metadata": {},
   "outputs": [],
   "source": [
    "mta_data = pd.read_sql('SELECT * FROM mta_data;', engine)"
   ]
  },
  {
   "cell_type": "code",
   "execution_count": 336,
   "id": "e9d535db-26ed-4b9f-acdf-d6fdbce4e3df",
   "metadata": {},
   "outputs": [
    {
     "data": {
      "text/plain": [
       "(10267810, 11)"
      ]
     },
     "execution_count": 336,
     "metadata": {},
     "output_type": "execute_result"
    }
   ],
   "source": [
    "mta_data.shape"
   ]
  },
  {
   "cell_type": "markdown",
   "id": "ad427eb9-8501-4034-a5a7-0bf37a404e74",
   "metadata": {},
   "source": [
    "## Cleaning data\n",
    "From MVP.ipynb"
   ]
  },
  {
   "cell_type": "code",
   "execution_count": 337,
   "id": "9f81fdef-8f36-455a-9ab1-7c5833501ef9",
   "metadata": {},
   "outputs": [],
   "source": [
    "import datetime"
   ]
  },
  {
   "cell_type": "code",
   "execution_count": 338,
   "id": "f23e8fec-0705-41b6-ab68-d57f707d18ec",
   "metadata": {
    "tags": []
   },
   "outputs": [],
   "source": [
    "mta_data[\"DATE_TIME\"] = pd.to_datetime(mta_data.DATE + \" \" + mta_data.TIME, \n",
    "                                            format=\"%m/%d/%Y %H:%M:%S\")"
   ]
  },
  {
   "cell_type": "code",
   "execution_count": 339,
   "id": "2eb6d535-fe26-430d-98a7-d83a2dc383ed",
   "metadata": {},
   "outputs": [],
   "source": [
    "#only select data from year 2019, and from 12/31/2018 for calculating daily entry gain\n",
    "#mta_data=mta_data[(mta_data['DATE_TIME'].dt.year == 2019) | (mta_data['DATE']=='12/31/2018')]"
   ]
  },
  {
   "cell_type": "code",
   "execution_count": 340,
   "id": "3d0e8a1b-17bf-4351-8a12-ebe3cf0bb281",
   "metadata": {},
   "outputs": [],
   "source": [
    "mta_data['MONTH']=mta_data['DATE_TIME'].dt.month"
   ]
  },
  {
   "cell_type": "code",
   "execution_count": 341,
   "id": "9c758190-3494-40fe-ab5d-9843d1a39569",
   "metadata": {},
   "outputs": [
    {
     "data": {
      "text/plain": [
       "C/A                  object\n",
       "UNIT                 object\n",
       "SCP                  object\n",
       "STATION              object\n",
       "LINENAME             object\n",
       "DIVISION             object\n",
       "DATE                 object\n",
       "TIME                 object\n",
       "DESC                 object\n",
       "ENTRIES               int64\n",
       "EXITS                 int64\n",
       "DATE_TIME    datetime64[ns]\n",
       "MONTH                 int64\n",
       "dtype: object"
      ]
     },
     "execution_count": 341,
     "metadata": {},
     "output_type": "execute_result"
    }
   ],
   "source": [
    "mta_data.dtypes"
   ]
  },
  {
   "cell_type": "code",
   "execution_count": 342,
   "id": "65359d81-3dd9-4853-bc9a-49f6b2f9dbfb",
   "metadata": {},
   "outputs": [],
   "source": [
    "# Get rid of the duplicate entry\n",
    "mta_data.sort_values([\"C/A\", \"UNIT\", \"SCP\", \"STATION\", \"DATE_TIME\"], \n",
    "                          inplace=True, ascending=False)\n",
    "mta_data.drop_duplicates(subset=[\"C/A\", \"UNIT\", \"SCP\", \"STATION\", \"DATE_TIME\"], inplace=True)"
   ]
  },
  {
   "cell_type": "code",
   "execution_count": 343,
   "id": "c3a72cd8-6ffe-45d3-b376-d4e1870f0010",
   "metadata": {},
   "outputs": [
    {
     "data": {
      "text/html": [
       "<div>\n",
       "<style scoped>\n",
       "    .dataframe tbody tr th:only-of-type {\n",
       "        vertical-align: middle;\n",
       "    }\n",
       "\n",
       "    .dataframe tbody tr th {\n",
       "        vertical-align: top;\n",
       "    }\n",
       "\n",
       "    .dataframe thead th {\n",
       "        text-align: right;\n",
       "    }\n",
       "</style>\n",
       "<table border=\"1\" class=\"dataframe\">\n",
       "  <thead>\n",
       "    <tr style=\"text-align: right;\">\n",
       "      <th></th>\n",
       "      <th>C/A</th>\n",
       "      <th>UNIT</th>\n",
       "      <th>SCP</th>\n",
       "      <th>STATION</th>\n",
       "      <th>LINENAME</th>\n",
       "      <th>DIVISION</th>\n",
       "      <th>DATE</th>\n",
       "      <th>TIME</th>\n",
       "      <th>DESC</th>\n",
       "      <th>ENTRIES</th>\n",
       "      <th>EXITS</th>\n",
       "      <th>DATE_TIME</th>\n",
       "      <th>MONTH</th>\n",
       "    </tr>\n",
       "  </thead>\n",
       "  <tbody>\n",
       "    <tr>\n",
       "      <th>192347</th>\n",
       "      <td>TRAM2</td>\n",
       "      <td>R469</td>\n",
       "      <td>00-05-01</td>\n",
       "      <td>RIT-ROOSEVELT</td>\n",
       "      <td>R</td>\n",
       "      <td>RIT</td>\n",
       "      <td>12/30/2016</td>\n",
       "      <td>20:00:00</td>\n",
       "      <td>REGULAR</td>\n",
       "      <td>5554</td>\n",
       "      <td>283</td>\n",
       "      <td>2016-12-30 20:00:00</td>\n",
       "      <td>12</td>\n",
       "    </tr>\n",
       "    <tr>\n",
       "      <th>192346</th>\n",
       "      <td>TRAM2</td>\n",
       "      <td>R469</td>\n",
       "      <td>00-05-01</td>\n",
       "      <td>RIT-ROOSEVELT</td>\n",
       "      <td>R</td>\n",
       "      <td>RIT</td>\n",
       "      <td>12/30/2016</td>\n",
       "      <td>16:00:00</td>\n",
       "      <td>REGULAR</td>\n",
       "      <td>5554</td>\n",
       "      <td>283</td>\n",
       "      <td>2016-12-30 16:00:00</td>\n",
       "      <td>12</td>\n",
       "    </tr>\n",
       "    <tr>\n",
       "      <th>192345</th>\n",
       "      <td>TRAM2</td>\n",
       "      <td>R469</td>\n",
       "      <td>00-05-01</td>\n",
       "      <td>RIT-ROOSEVELT</td>\n",
       "      <td>R</td>\n",
       "      <td>RIT</td>\n",
       "      <td>12/30/2016</td>\n",
       "      <td>12:00:00</td>\n",
       "      <td>REGULAR</td>\n",
       "      <td>5554</td>\n",
       "      <td>283</td>\n",
       "      <td>2016-12-30 12:00:00</td>\n",
       "      <td>12</td>\n",
       "    </tr>\n",
       "    <tr>\n",
       "      <th>192344</th>\n",
       "      <td>TRAM2</td>\n",
       "      <td>R469</td>\n",
       "      <td>00-05-01</td>\n",
       "      <td>RIT-ROOSEVELT</td>\n",
       "      <td>R</td>\n",
       "      <td>RIT</td>\n",
       "      <td>12/30/2016</td>\n",
       "      <td>08:00:00</td>\n",
       "      <td>REGULAR</td>\n",
       "      <td>5554</td>\n",
       "      <td>283</td>\n",
       "      <td>2016-12-30 08:00:00</td>\n",
       "      <td>12</td>\n",
       "    </tr>\n",
       "    <tr>\n",
       "      <th>192343</th>\n",
       "      <td>TRAM2</td>\n",
       "      <td>R469</td>\n",
       "      <td>00-05-01</td>\n",
       "      <td>RIT-ROOSEVELT</td>\n",
       "      <td>R</td>\n",
       "      <td>RIT</td>\n",
       "      <td>12/30/2016</td>\n",
       "      <td>04:00:00</td>\n",
       "      <td>REGULAR</td>\n",
       "      <td>5554</td>\n",
       "      <td>283</td>\n",
       "      <td>2016-12-30 04:00:00</td>\n",
       "      <td>12</td>\n",
       "    </tr>\n",
       "  </tbody>\n",
       "</table>\n",
       "</div>"
      ],
      "text/plain": [
       "          C/A  UNIT       SCP        STATION LINENAME DIVISION        DATE  \\\n",
       "192347  TRAM2  R469  00-05-01  RIT-ROOSEVELT        R      RIT  12/30/2016   \n",
       "192346  TRAM2  R469  00-05-01  RIT-ROOSEVELT        R      RIT  12/30/2016   \n",
       "192345  TRAM2  R469  00-05-01  RIT-ROOSEVELT        R      RIT  12/30/2016   \n",
       "192344  TRAM2  R469  00-05-01  RIT-ROOSEVELT        R      RIT  12/30/2016   \n",
       "192343  TRAM2  R469  00-05-01  RIT-ROOSEVELT        R      RIT  12/30/2016   \n",
       "\n",
       "            TIME     DESC  ENTRIES  EXITS           DATE_TIME  MONTH  \n",
       "192347  20:00:00  REGULAR     5554    283 2016-12-30 20:00:00     12  \n",
       "192346  16:00:00  REGULAR     5554    283 2016-12-30 16:00:00     12  \n",
       "192345  12:00:00  REGULAR     5554    283 2016-12-30 12:00:00     12  \n",
       "192344  08:00:00  REGULAR     5554    283 2016-12-30 08:00:00     12  \n",
       "192343  04:00:00  REGULAR     5554    283 2016-12-30 04:00:00     12  "
      ]
     },
     "execution_count": 343,
     "metadata": {},
     "output_type": "execute_result"
    }
   ],
   "source": [
    "mta_data.head()"
   ]
  },
  {
   "cell_type": "code",
   "execution_count": 344,
   "id": "536e9b50-8229-4a6c-b8e9-67a9fd98aa1b",
   "metadata": {},
   "outputs": [
    {
     "data": {
      "text/html": [
       "<div>\n",
       "<style scoped>\n",
       "    .dataframe tbody tr th:only-of-type {\n",
       "        vertical-align: middle;\n",
       "    }\n",
       "\n",
       "    .dataframe tbody tr th {\n",
       "        vertical-align: top;\n",
       "    }\n",
       "\n",
       "    .dataframe thead th {\n",
       "        text-align: right;\n",
       "    }\n",
       "</style>\n",
       "<table border=\"1\" class=\"dataframe\">\n",
       "  <thead>\n",
       "    <tr style=\"text-align: right;\">\n",
       "      <th></th>\n",
       "      <th>C/A</th>\n",
       "      <th>UNIT</th>\n",
       "      <th>SCP</th>\n",
       "      <th>STATION</th>\n",
       "      <th>DATE_TIME</th>\n",
       "      <th>ENTRIES</th>\n",
       "    </tr>\n",
       "  </thead>\n",
       "  <tbody>\n",
       "    <tr>\n",
       "      <th>0</th>\n",
       "      <td>A002</td>\n",
       "      <td>R051</td>\n",
       "      <td>02-00-00</td>\n",
       "      <td>59 ST</td>\n",
       "      <td>2015-12-26 03:00:00</td>\n",
       "      <td>1</td>\n",
       "    </tr>\n",
       "    <tr>\n",
       "      <th>6845117</th>\n",
       "      <td>R154</td>\n",
       "      <td>R116</td>\n",
       "      <td>00-00-02</td>\n",
       "      <td>50 ST</td>\n",
       "      <td>2016-02-18 07:00:00</td>\n",
       "      <td>1</td>\n",
       "    </tr>\n",
       "    <tr>\n",
       "      <th>6845110</th>\n",
       "      <td>R154</td>\n",
       "      <td>R116</td>\n",
       "      <td>00-00-02</td>\n",
       "      <td>50 ST</td>\n",
       "      <td>2016-02-17 03:00:00</td>\n",
       "      <td>1</td>\n",
       "    </tr>\n",
       "    <tr>\n",
       "      <th>6845111</th>\n",
       "      <td>R154</td>\n",
       "      <td>R116</td>\n",
       "      <td>00-00-02</td>\n",
       "      <td>50 ST</td>\n",
       "      <td>2016-02-17 07:00:00</td>\n",
       "      <td>1</td>\n",
       "    </tr>\n",
       "    <tr>\n",
       "      <th>6845112</th>\n",
       "      <td>R154</td>\n",
       "      <td>R116</td>\n",
       "      <td>00-00-02</td>\n",
       "      <td>50 ST</td>\n",
       "      <td>2016-02-17 11:00:00</td>\n",
       "      <td>1</td>\n",
       "    </tr>\n",
       "  </tbody>\n",
       "</table>\n",
       "</div>"
      ],
      "text/plain": [
       "          C/A  UNIT       SCP STATION           DATE_TIME  ENTRIES\n",
       "0        A002  R051  02-00-00   59 ST 2015-12-26 03:00:00        1\n",
       "6845117  R154  R116  00-00-02   50 ST 2016-02-18 07:00:00        1\n",
       "6845110  R154  R116  00-00-02   50 ST 2016-02-17 03:00:00        1\n",
       "6845111  R154  R116  00-00-02   50 ST 2016-02-17 07:00:00        1\n",
       "6845112  R154  R116  00-00-02   50 ST 2016-02-17 11:00:00        1"
      ]
     },
     "execution_count": 344,
     "metadata": {},
     "output_type": "execute_result"
    }
   ],
   "source": [
    "# Sanity Check to verify that \"C/A\", \"UNIT\", \"SCP\", \"STATION\", \"DATE_TIME\" is unique\n",
    "(mta_data\n",
    " .groupby([\"C/A\", \"UNIT\", \"SCP\", \"STATION\", \"DATE_TIME\"])\n",
    " .ENTRIES.count()\n",
    " .reset_index()\n",
    " .sort_values(\"ENTRIES\", ascending=False)).head(5)"
   ]
  },
  {
   "cell_type": "code",
   "execution_count": 345,
   "id": "535a6f54-a3e7-4c10-89ab-0d0773bda13c",
   "metadata": {},
   "outputs": [],
   "source": [
    "mta_data = mta_data.drop([\"EXITS\", \"DESC\"], axis=1, errors=\"ignore\")"
   ]
  },
  {
   "cell_type": "markdown",
   "id": "2ce5e42a-6c8a-4f6a-9c79-b20661aeb1ef",
   "metadata": {},
   "source": [
    "### Match daily max entry with previous day max entry for calculating daily gain"
   ]
  },
  {
   "cell_type": "code",
   "execution_count": 346,
   "id": "53dfcc0d-8592-46da-9c4a-8b737868f087",
   "metadata": {},
   "outputs": [],
   "source": [
    "#get daily maximum entries at each turnstile\n",
    "#groupby automatically sorts grouped columns in ascending order\n",
    "#since \"TIME\" is not sorted, it is still in descending order as previously sorted. first() returns the first row of each group\n",
    "mta_data_daily = (mta_data\n",
    "                        .groupby([\"C/A\", \"UNIT\", \"SCP\", \"STATION\", \"DATE\"],as_index=False)\n",
    "                        .ENTRIES.first())"
   ]
  },
  {
   "cell_type": "code",
   "execution_count": 347,
   "id": "c641498b-2eaf-48f4-9b77-8ada99222efe",
   "metadata": {},
   "outputs": [],
   "source": [
    "mta_data_daily['DATE'] = pd.to_datetime(mta_data_daily['DATE'])"
   ]
  },
  {
   "cell_type": "code",
   "execution_count": 348,
   "id": "e6818de5-6c4a-4043-beb8-5fbe8cd69a0f",
   "metadata": {},
   "outputs": [],
   "source": [
    "mta_data_daily=mta_data_daily.sort_values([\"C/A\", \"UNIT\", \"SCP\", \"STATION\", \"DATE\"], ascending=True)"
   ]
  },
  {
   "cell_type": "code",
   "execution_count": 349,
   "id": "b1c814ac-752a-4b30-b004-e8e2b7c382bf",
   "metadata": {},
   "outputs": [
    {
     "name": "stderr",
     "output_type": "stream",
     "text": [
      "<ipython-input-349-de1ca14dae5e>:2: FutureWarning: Indexing with multiple keys (implicitly converted to a tuple of keys) will be deprecated, use a list instead.\n",
      "  mta_data_daily[[\"PREV_DATE\", \"PREV_ENTRIES\"]] = (mta_data_daily.groupby([\"C/A\", \"UNIT\", \"SCP\", \"STATION\"])[\"DATE\", \"ENTRIES\"].apply(lambda grp: grp.shift(1)))\n"
     ]
    }
   ],
   "source": [
    "#finding daily gain in entries\n",
    "mta_data_daily[[\"PREV_DATE\", \"PREV_ENTRIES\"]] = (mta_data_daily.groupby([\"C/A\", \"UNIT\", \"SCP\", \"STATION\"])[\"DATE\", \"ENTRIES\"].apply(lambda grp: grp.shift(1)))"
   ]
  },
  {
   "cell_type": "code",
   "execution_count": 350,
   "id": "eefacfac-74ca-4344-b582-afa5d1990e6b",
   "metadata": {},
   "outputs": [],
   "source": [
    "#mta_data_daily.DATE.value_counts()"
   ]
  },
  {
   "cell_type": "code",
   "execution_count": 351,
   "id": "db9d2f51-3049-4665-beb4-c7624c0df584",
   "metadata": {},
   "outputs": [],
   "source": [
    "# Drop the rows for the earliest date in the df\n",
    "mta_data_daily.dropna(subset=[\"PREV_DATE\"], axis=0, inplace=True)"
   ]
  },
  {
   "cell_type": "markdown",
   "id": "715e3792-4911-4da6-9860-71117737e13f",
   "metadata": {},
   "source": [
    "#### Cleaning dirty entries"
   ]
  },
  {
   "cell_type": "code",
   "execution_count": 352,
   "id": "0b1e1ba1-23d3-49df-899a-e5c73badd447",
   "metadata": {},
   "outputs": [],
   "source": [
    "def get_daily_counts(row, max_counter):\n",
    "    counter = row[\"ENTRIES\"] - row[\"PREV_ENTRIES\"]\n",
    "    if counter < 0:\n",
    "        # Maybe counter is reversed?\n",
    "        counter = -counter\n",
    "    if counter > max_counter:\n",
    "        # Maybe counter was reset to 0? \n",
    "        #print(row[\"ENTRIES\"], row[\"PREV_ENTRIES\"])\n",
    "        counter = min(row[\"ENTRIES\"], row[\"PREV_ENTRIES\"])\n",
    "    if counter > max_counter:\n",
    "        # Check it again to make sure we're not still giving a counter that's too big\n",
    "        return 0\n",
    "    return counter\n",
    "\n",
    "# If counter is > 100,000, then the counter might have been reset.  \n",
    "# Just set it to zero as different counters have different cycle limits\n",
    "# It'd probably be a good idea to use a number even significantly smaller than 1 million as the limit!\n",
    "mta_data_daily[\"DAILY_ENTRIES\"] = mta_data_daily.apply(get_daily_counts, axis=1, max_counter=100000)"
   ]
  },
  {
   "cell_type": "code",
   "execution_count": 353,
   "id": "c395870a-4a57-4d41-b62d-9e5f57f48ccf",
   "metadata": {
    "tags": []
   },
   "outputs": [],
   "source": [
    "#mta_data_daily[(mta_data_daily.DATE=='2020-05-01')&(mta_data_daily.STATION=='137 ST CITY COL')].head(50)"
   ]
  },
  {
   "cell_type": "code",
   "execution_count": 354,
   "id": "3d2f70e9-4d53-4fdb-b9fc-29f5bfd7286d",
   "metadata": {},
   "outputs": [],
   "source": [
    "#getting daily entries for making daily heatmap later\n",
    "total_daily=mta_data_daily.groupby([\"DATE\"]).DAILY_ENTRIES.sum().reset_index(name ='DAILY_ENTRIES')"
   ]
  },
  {
   "cell_type": "code",
   "execution_count": 355,
   "id": "63105767-56a3-4291-a9d2-e815aae75fa5",
   "metadata": {},
   "outputs": [
    {
     "data": {
      "text/html": [
       "<div>\n",
       "<style scoped>\n",
       "    .dataframe tbody tr th:only-of-type {\n",
       "        vertical-align: middle;\n",
       "    }\n",
       "\n",
       "    .dataframe tbody tr th {\n",
       "        vertical-align: top;\n",
       "    }\n",
       "\n",
       "    .dataframe thead th {\n",
       "        text-align: right;\n",
       "    }\n",
       "</style>\n",
       "<table border=\"1\" class=\"dataframe\">\n",
       "  <thead>\n",
       "    <tr style=\"text-align: right;\">\n",
       "      <th></th>\n",
       "      <th>DATE</th>\n",
       "      <th>DAILY_ENTRIES</th>\n",
       "    </tr>\n",
       "  </thead>\n",
       "  <tbody>\n",
       "    <tr>\n",
       "      <th>0</th>\n",
       "      <td>2015-12-27</td>\n",
       "      <td>2874095.0</td>\n",
       "    </tr>\n",
       "    <tr>\n",
       "      <th>1</th>\n",
       "      <td>2015-12-28</td>\n",
       "      <td>4971143.0</td>\n",
       "    </tr>\n",
       "    <tr>\n",
       "      <th>2</th>\n",
       "      <td>2015-12-29</td>\n",
       "      <td>4993735.0</td>\n",
       "    </tr>\n",
       "    <tr>\n",
       "      <th>3</th>\n",
       "      <td>2015-12-30</td>\n",
       "      <td>5329234.0</td>\n",
       "    </tr>\n",
       "    <tr>\n",
       "      <th>4</th>\n",
       "      <td>2015-12-31</td>\n",
       "      <td>4673037.0</td>\n",
       "    </tr>\n",
       "  </tbody>\n",
       "</table>\n",
       "</div>"
      ],
      "text/plain": [
       "        DATE  DAILY_ENTRIES\n",
       "0 2015-12-27      2874095.0\n",
       "1 2015-12-28      4971143.0\n",
       "2 2015-12-29      4993735.0\n",
       "3 2015-12-30      5329234.0\n",
       "4 2015-12-31      4673037.0"
      ]
     },
     "execution_count": 355,
     "metadata": {},
     "output_type": "execute_result"
    }
   ],
   "source": [
    "total_daily.head()"
   ]
  },
  {
   "cell_type": "code",
   "execution_count": 356,
   "id": "f1e57833-b530-4cae-8954-ab8739b63902",
   "metadata": {},
   "outputs": [],
   "source": [
    "total_daily.to_csv('mta_2015_daily.csv', sep='\\t',index=False)"
   ]
  },
  {
   "cell_type": "code",
   "execution_count": 357,
   "id": "7217da86-73bb-47ac-8a26-ad2267d8e77b",
   "metadata": {
    "tags": []
   },
   "outputs": [
    {
     "data": {
      "text/html": [
       "<div>\n",
       "<style scoped>\n",
       "    .dataframe tbody tr th:only-of-type {\n",
       "        vertical-align: middle;\n",
       "    }\n",
       "\n",
       "    .dataframe tbody tr th {\n",
       "        vertical-align: top;\n",
       "    }\n",
       "\n",
       "    .dataframe thead th {\n",
       "        text-align: right;\n",
       "    }\n",
       "</style>\n",
       "<table border=\"1\" class=\"dataframe\">\n",
       "  <thead>\n",
       "    <tr style=\"text-align: right;\">\n",
       "      <th></th>\n",
       "      <th>DATE</th>\n",
       "      <th>DAILY_ENTRIES</th>\n",
       "    </tr>\n",
       "  </thead>\n",
       "  <tbody>\n",
       "    <tr>\n",
       "      <th>0</th>\n",
       "      <td>2015-12-27</td>\n",
       "      <td>2874095.0</td>\n",
       "    </tr>\n",
       "    <tr>\n",
       "      <th>1</th>\n",
       "      <td>2015-12-28</td>\n",
       "      <td>4971143.0</td>\n",
       "    </tr>\n",
       "    <tr>\n",
       "      <th>2</th>\n",
       "      <td>2015-12-29</td>\n",
       "      <td>4993735.0</td>\n",
       "    </tr>\n",
       "    <tr>\n",
       "      <th>3</th>\n",
       "      <td>2015-12-30</td>\n",
       "      <td>5329234.0</td>\n",
       "    </tr>\n",
       "    <tr>\n",
       "      <th>4</th>\n",
       "      <td>2015-12-31</td>\n",
       "      <td>4673037.0</td>\n",
       "    </tr>\n",
       "  </tbody>\n",
       "</table>\n",
       "</div>"
      ],
      "text/plain": [
       "        DATE  DAILY_ENTRIES\n",
       "0 2015-12-27      2874095.0\n",
       "1 2015-12-28      4971143.0\n",
       "2 2015-12-29      4993735.0\n",
       "3 2015-12-30      5329234.0\n",
       "4 2015-12-31      4673037.0"
      ]
     },
     "execution_count": 357,
     "metadata": {},
     "output_type": "execute_result"
    }
   ],
   "source": [
    "total_daily.head()"
   ]
  },
  {
   "cell_type": "code",
   "execution_count": 358,
   "id": "1cabb86f-43a9-40ee-9a18-6af2bcb89259",
   "metadata": {},
   "outputs": [],
   "source": [
    "import seaborn as sns"
   ]
  },
  {
   "cell_type": "code",
   "execution_count": 359,
   "id": "0eb4b21b-0cf4-4a5a-9041-6c6123cf4347",
   "metadata": {},
   "outputs": [
    {
     "data": {
      "text/plain": [
       "<AxesSubplot:xlabel='DATE', ylabel='DAILY_ENTRIES'>"
      ]
     },
     "execution_count": 359,
     "metadata": {},
     "output_type": "execute_result"
    },
    {
     "data": {
      "image/png": "[encoded data removed]",
      "text/plain": [
       "<Figure size 432x288 with 1 Axes>"
      ]
     },
     "metadata": {},
     "output_type": "display_data"
    }
   ],
   "source": [
    "#sanity check\n",
    "sns.lineplot(data=total_daily,\n",
    "             x = 'DATE',\n",
    "             y = 'DAILY_ENTRIES',\n",
    "             label = '2015 MTA Daily Entries',\n",
    "            )"
   ]
  },
  {
   "cell_type": "markdown",
   "id": "05ef7c9b-f439-4e70-b26f-6bf3745d7091",
   "metadata": {},
   "source": [
    "### Sum turnstile entries of each station"
   ]
  },
  {
   "cell_type": "code",
   "execution_count": 32,
   "id": "4290a8bc-17da-4714-a797-e40d03b275ba",
   "metadata": {},
   "outputs": [
    {
     "data": {
      "text/html": [
       "<div>\n",
       "<style scoped>\n",
       "    .dataframe tbody tr th:only-of-type {\n",
       "        vertical-align: middle;\n",
       "    }\n",
       "\n",
       "    .dataframe tbody tr th {\n",
       "        vertical-align: top;\n",
       "    }\n",
       "\n",
       "    .dataframe thead th {\n",
       "        text-align: right;\n",
       "    }\n",
       "</style>\n",
       "<table border=\"1\" class=\"dataframe\">\n",
       "  <thead>\n",
       "    <tr style=\"text-align: right;\">\n",
       "      <th></th>\n",
       "      <th>STATION</th>\n",
       "      <th>DATE</th>\n",
       "      <th>DAILY_ENTRIES</th>\n",
       "    </tr>\n",
       "  </thead>\n",
       "  <tbody>\n",
       "    <tr>\n",
       "      <th>0</th>\n",
       "      <td>1 AV</td>\n",
       "      <td>2021-12-26</td>\n",
       "      <td>3041.0</td>\n",
       "    </tr>\n",
       "    <tr>\n",
       "      <th>1</th>\n",
       "      <td>1 AV</td>\n",
       "      <td>2021-12-27</td>\n",
       "      <td>5120.0</td>\n",
       "    </tr>\n",
       "    <tr>\n",
       "      <th>2</th>\n",
       "      <td>1 AV</td>\n",
       "      <td>2021-12-28</td>\n",
       "      <td>5647.0</td>\n",
       "    </tr>\n",
       "    <tr>\n",
       "      <th>3</th>\n",
       "      <td>1 AV</td>\n",
       "      <td>2021-12-29</td>\n",
       "      <td>5821.0</td>\n",
       "    </tr>\n",
       "    <tr>\n",
       "      <th>4</th>\n",
       "      <td>1 AV</td>\n",
       "      <td>2021-12-30</td>\n",
       "      <td>5782.0</td>\n",
       "    </tr>\n",
       "  </tbody>\n",
       "</table>\n",
       "</div>"
      ],
      "text/plain": [
       "  STATION       DATE  DAILY_ENTRIES\n",
       "0    1 AV 2021-12-26         3041.0\n",
       "1    1 AV 2021-12-27         5120.0\n",
       "2    1 AV 2021-12-28         5647.0\n",
       "3    1 AV 2021-12-29         5821.0\n",
       "4    1 AV 2021-12-30         5782.0"
      ]
     },
     "execution_count": 32,
     "metadata": {},
     "output_type": "execute_result"
    }
   ],
   "source": [
    "station_daily = mta_data_daily.groupby([\"STATION\", \"DATE\"])[['DAILY_ENTRIES']].sum().reset_index()\n",
    "station_daily.head()"
   ]
  },
  {
   "cell_type": "code",
   "execution_count": 33,
   "id": "8a1af6cd-f36f-4207-a62c-bb5919387f82",
   "metadata": {},
   "outputs": [],
   "source": [
    "station_daily[\"MONTH\"] = pd.to_datetime(station_daily['DATE']).dt.strftime('%Y-%m')"
   ]
  },
  {
   "cell_type": "code",
   "execution_count": 34,
   "id": "996559f1-3e75-4eb1-b54b-f7f6b2979e92",
   "metadata": {},
   "outputs": [
    {
     "data": {
      "text/html": [
       "<div>\n",
       "<style scoped>\n",
       "    .dataframe tbody tr th:only-of-type {\n",
       "        vertical-align: middle;\n",
       "    }\n",
       "\n",
       "    .dataframe tbody tr th {\n",
       "        vertical-align: top;\n",
       "    }\n",
       "\n",
       "    .dataframe thead th {\n",
       "        text-align: right;\n",
       "    }\n",
       "</style>\n",
       "<table border=\"1\" class=\"dataframe\">\n",
       "  <thead>\n",
       "    <tr style=\"text-align: right;\">\n",
       "      <th></th>\n",
       "      <th>STATION</th>\n",
       "      <th>DATE</th>\n",
       "      <th>DAILY_ENTRIES</th>\n",
       "      <th>MONTH</th>\n",
       "    </tr>\n",
       "  </thead>\n",
       "  <tbody>\n",
       "    <tr>\n",
       "      <th>0</th>\n",
       "      <td>1 AV</td>\n",
       "      <td>2021-12-26</td>\n",
       "      <td>3041.0</td>\n",
       "      <td>2021-12</td>\n",
       "    </tr>\n",
       "    <tr>\n",
       "      <th>1</th>\n",
       "      <td>1 AV</td>\n",
       "      <td>2021-12-27</td>\n",
       "      <td>5120.0</td>\n",
       "      <td>2021-12</td>\n",
       "    </tr>\n",
       "    <tr>\n",
       "      <th>2</th>\n",
       "      <td>1 AV</td>\n",
       "      <td>2021-12-28</td>\n",
       "      <td>5647.0</td>\n",
       "      <td>2021-12</td>\n",
       "    </tr>\n",
       "    <tr>\n",
       "      <th>3</th>\n",
       "      <td>1 AV</td>\n",
       "      <td>2021-12-29</td>\n",
       "      <td>5821.0</td>\n",
       "      <td>2021-12</td>\n",
       "    </tr>\n",
       "    <tr>\n",
       "      <th>4</th>\n",
       "      <td>1 AV</td>\n",
       "      <td>2021-12-30</td>\n",
       "      <td>5782.0</td>\n",
       "      <td>2021-12</td>\n",
       "    </tr>\n",
       "    <tr>\n",
       "      <th>...</th>\n",
       "      <td>...</td>\n",
       "      <td>...</td>\n",
       "      <td>...</td>\n",
       "      <td>...</td>\n",
       "    </tr>\n",
       "    <tr>\n",
       "      <th>7534</th>\n",
       "      <td>ZEREGA AV</td>\n",
       "      <td>2022-01-10</td>\n",
       "      <td>1078.0</td>\n",
       "      <td>2022-01</td>\n",
       "    </tr>\n",
       "    <tr>\n",
       "      <th>7535</th>\n",
       "      <td>ZEREGA AV</td>\n",
       "      <td>2022-01-11</td>\n",
       "      <td>1158.0</td>\n",
       "      <td>2022-01</td>\n",
       "    </tr>\n",
       "    <tr>\n",
       "      <th>7536</th>\n",
       "      <td>ZEREGA AV</td>\n",
       "      <td>2022-01-12</td>\n",
       "      <td>1257.0</td>\n",
       "      <td>2022-01</td>\n",
       "    </tr>\n",
       "    <tr>\n",
       "      <th>7537</th>\n",
       "      <td>ZEREGA AV</td>\n",
       "      <td>2022-01-13</td>\n",
       "      <td>1188.0</td>\n",
       "      <td>2022-01</td>\n",
       "    </tr>\n",
       "    <tr>\n",
       "      <th>7538</th>\n",
       "      <td>ZEREGA AV</td>\n",
       "      <td>2022-01-14</td>\n",
       "      <td>1207.0</td>\n",
       "      <td>2022-01</td>\n",
       "    </tr>\n",
       "  </tbody>\n",
       "</table>\n",
       "<p>7539 rows × 4 columns</p>\n",
       "</div>"
      ],
      "text/plain": [
       "        STATION       DATE  DAILY_ENTRIES    MONTH\n",
       "0          1 AV 2021-12-26         3041.0  2021-12\n",
       "1          1 AV 2021-12-27         5120.0  2021-12\n",
       "2          1 AV 2021-12-28         5647.0  2021-12\n",
       "3          1 AV 2021-12-29         5821.0  2021-12\n",
       "4          1 AV 2021-12-30         5782.0  2021-12\n",
       "...         ...        ...            ...      ...\n",
       "7534  ZEREGA AV 2022-01-10         1078.0  2022-01\n",
       "7535  ZEREGA AV 2022-01-11         1158.0  2022-01\n",
       "7536  ZEREGA AV 2022-01-12         1257.0  2022-01\n",
       "7537  ZEREGA AV 2022-01-13         1188.0  2022-01\n",
       "7538  ZEREGA AV 2022-01-14         1207.0  2022-01\n",
       "\n",
       "[7539 rows x 4 columns]"
      ]
     },
     "execution_count": 34,
     "metadata": {},
     "output_type": "execute_result"
    }
   ],
   "source": [
    "station_daily"
   ]
  },
  {
   "cell_type": "code",
   "execution_count": 35,
   "id": "292465c4-0b11-40a6-8cd4-b19a104e0dcc",
   "metadata": {},
   "outputs": [],
   "source": [
    "station_monthly=station_daily.groupby([\"STATION\", \"MONTH\"]).DAILY_ENTRIES.sum().reset_index(name ='MONTHLY_ENTRIES')"
   ]
  },
  {
   "cell_type": "code",
   "execution_count": 36,
   "id": "d35643f4-e513-4511-b295-36533157888a",
   "metadata": {},
   "outputs": [],
   "source": [
    "total_monthly=station_daily.groupby([\"MONTH\"]).DAILY_ENTRIES.sum().reset_index(name ='MONTHLY_ENTRIES')"
   ]
  },
  {
   "cell_type": "code",
   "execution_count": 37,
   "id": "b40cadb9-5ef4-40eb-a379-91b294ed5eea",
   "metadata": {},
   "outputs": [
    {
     "data": {
      "text/html": [
       "<div>\n",
       "<style scoped>\n",
       "    .dataframe tbody tr th:only-of-type {\n",
       "        vertical-align: middle;\n",
       "    }\n",
       "\n",
       "    .dataframe tbody tr th {\n",
       "        vertical-align: top;\n",
       "    }\n",
       "\n",
       "    .dataframe thead th {\n",
       "        text-align: right;\n",
       "    }\n",
       "</style>\n",
       "<table border=\"1\" class=\"dataframe\">\n",
       "  <thead>\n",
       "    <tr style=\"text-align: right;\">\n",
       "      <th></th>\n",
       "      <th>MONTH</th>\n",
       "      <th>MONTHLY_ENTRIES</th>\n",
       "    </tr>\n",
       "  </thead>\n",
       "  <tbody>\n",
       "    <tr>\n",
       "      <th>0</th>\n",
       "      <td>2021-12</td>\n",
       "      <td>9665471.0</td>\n",
       "    </tr>\n",
       "    <tr>\n",
       "      <th>1</th>\n",
       "      <td>2022-01</td>\n",
       "      <td>23642866.0</td>\n",
       "    </tr>\n",
       "  </tbody>\n",
       "</table>\n",
       "</div>"
      ],
      "text/plain": [
       "     MONTH  MONTHLY_ENTRIES\n",
       "0  2021-12        9665471.0\n",
       "1  2022-01       23642866.0"
      ]
     },
     "execution_count": 37,
     "metadata": {},
     "output_type": "execute_result"
    }
   ],
   "source": [
    "total_monthly"
   ]
  },
  {
   "cell_type": "code",
   "execution_count": 38,
   "id": "448a0ef0-f076-4ed1-b564-d13159de7c43",
   "metadata": {},
   "outputs": [],
   "source": [
    "#write 2019's monthly MTA data to .csv\n",
    "total_monthly.to_csv('mta_2018_monthly.csv', sep='\\t', index=True)"
   ]
  },
  {
   "cell_type": "markdown",
   "id": "439003e2-e656-4268-aeac-c8fc4f5ed2de",
   "metadata": {},
   "source": [
    "___"
   ]
  },
  {
   "cell_type": "markdown",
   "id": "8975a2a8-01d2-453f-8132-196516504814",
   "metadata": {},
   "source": [
    "# NYC COVID data\n",
    "data from https://github.com/nytimes/covid-19-data"
   ]
  },
  {
   "cell_type": "code",
   "execution_count": 51,
   "id": "6743201e-ff89-4816-95b7-efe2b1ab43ff",
   "metadata": {},
   "outputs": [],
   "source": [
    "from matplotlib import pyplot as plt\n",
    "import seaborn as sns"
   ]
  },
  {
   "cell_type": "code",
   "execution_count": 52,
   "id": "2891e494-d7aa-4933-b41b-d9fda2925204",
   "metadata": {},
   "outputs": [],
   "source": [
    "COVID_data=pd.read_csv('https://raw.githubusercontent.com/nytimes/covid-19-data/master/us-counties.csv')"
   ]
  },
  {
   "cell_type": "code",
   "execution_count": 53,
   "id": "777795c4-71f1-4878-9012-8cb0876cce10",
   "metadata": {},
   "outputs": [],
   "source": [
    "NYC_COVID_Data=COVID_data[COVID_data.county=='New York City']"
   ]
  },
  {
   "cell_type": "code",
   "execution_count": 54,
   "id": "155d6eeb-52eb-4924-9d17-6c1fa84674b4",
   "metadata": {},
   "outputs": [
    {
     "data": {
      "text/html": [
       "<div>\n",
       "<style scoped>\n",
       "    .dataframe tbody tr th:only-of-type {\n",
       "        vertical-align: middle;\n",
       "    }\n",
       "\n",
       "    .dataframe tbody tr th {\n",
       "        vertical-align: top;\n",
       "    }\n",
       "\n",
       "    .dataframe thead th {\n",
       "        text-align: right;\n",
       "    }\n",
       "</style>\n",
       "<table border=\"1\" class=\"dataframe\">\n",
       "  <thead>\n",
       "    <tr style=\"text-align: right;\">\n",
       "      <th></th>\n",
       "      <th>date</th>\n",
       "      <th>county</th>\n",
       "      <th>state</th>\n",
       "      <th>fips</th>\n",
       "      <th>cases</th>\n",
       "      <th>deaths</th>\n",
       "    </tr>\n",
       "  </thead>\n",
       "  <tbody>\n",
       "    <tr>\n",
       "      <th>416</th>\n",
       "      <td>2020-03-01</td>\n",
       "      <td>New York City</td>\n",
       "      <td>New York</td>\n",
       "      <td>NaN</td>\n",
       "      <td>1</td>\n",
       "      <td>0.0</td>\n",
       "    </tr>\n",
       "    <tr>\n",
       "      <th>448</th>\n",
       "      <td>2020-03-02</td>\n",
       "      <td>New York City</td>\n",
       "      <td>New York</td>\n",
       "      <td>NaN</td>\n",
       "      <td>1</td>\n",
       "      <td>0.0</td>\n",
       "    </tr>\n",
       "    <tr>\n",
       "      <th>482</th>\n",
       "      <td>2020-03-03</td>\n",
       "      <td>New York City</td>\n",
       "      <td>New York</td>\n",
       "      <td>NaN</td>\n",
       "      <td>2</td>\n",
       "      <td>0.0</td>\n",
       "    </tr>\n",
       "    <tr>\n",
       "      <th>518</th>\n",
       "      <td>2020-03-04</td>\n",
       "      <td>New York City</td>\n",
       "      <td>New York</td>\n",
       "      <td>NaN</td>\n",
       "      <td>2</td>\n",
       "      <td>0.0</td>\n",
       "    </tr>\n",
       "    <tr>\n",
       "      <th>565</th>\n",
       "      <td>2020-03-05</td>\n",
       "      <td>New York City</td>\n",
       "      <td>New York</td>\n",
       "      <td>NaN</td>\n",
       "      <td>4</td>\n",
       "      <td>0.0</td>\n",
       "    </tr>\n",
       "    <tr>\n",
       "      <th>...</th>\n",
       "      <td>...</td>\n",
       "      <td>...</td>\n",
       "      <td>...</td>\n",
       "      <td>...</td>\n",
       "      <td>...</td>\n",
       "      <td>...</td>\n",
       "    </tr>\n",
       "    <tr>\n",
       "      <th>2124012</th>\n",
       "      <td>2022-01-17</td>\n",
       "      <td>New York City</td>\n",
       "      <td>New York</td>\n",
       "      <td>NaN</td>\n",
       "      <td>2123721</td>\n",
       "      <td>36698.0</td>\n",
       "    </tr>\n",
       "    <tr>\n",
       "      <th>2127264</th>\n",
       "      <td>2022-01-18</td>\n",
       "      <td>New York City</td>\n",
       "      <td>New York</td>\n",
       "      <td>NaN</td>\n",
       "      <td>2134609</td>\n",
       "      <td>36949.0</td>\n",
       "    </tr>\n",
       "    <tr>\n",
       "      <th>2130518</th>\n",
       "      <td>2022-01-19</td>\n",
       "      <td>New York City</td>\n",
       "      <td>New York</td>\n",
       "      <td>NaN</td>\n",
       "      <td>2145910</td>\n",
       "      <td>37122.0</td>\n",
       "    </tr>\n",
       "    <tr>\n",
       "      <th>2133770</th>\n",
       "      <td>2022-01-20</td>\n",
       "      <td>New York City</td>\n",
       "      <td>New York</td>\n",
       "      <td>NaN</td>\n",
       "      <td>2159384</td>\n",
       "      <td>37228.0</td>\n",
       "    </tr>\n",
       "    <tr>\n",
       "      <th>2137024</th>\n",
       "      <td>2022-01-21</td>\n",
       "      <td>New York City</td>\n",
       "      <td>New York</td>\n",
       "      <td>NaN</td>\n",
       "      <td>2171659</td>\n",
       "      <td>37364.0</td>\n",
       "    </tr>\n",
       "  </tbody>\n",
       "</table>\n",
       "<p>692 rows × 6 columns</p>\n",
       "</div>"
      ],
      "text/plain": [
       "               date         county     state  fips    cases   deaths\n",
       "416      2020-03-01  New York City  New York   NaN        1      0.0\n",
       "448      2020-03-02  New York City  New York   NaN        1      0.0\n",
       "482      2020-03-03  New York City  New York   NaN        2      0.0\n",
       "518      2020-03-04  New York City  New York   NaN        2      0.0\n",
       "565      2020-03-05  New York City  New York   NaN        4      0.0\n",
       "...             ...            ...       ...   ...      ...      ...\n",
       "2124012  2022-01-17  New York City  New York   NaN  2123721  36698.0\n",
       "2127264  2022-01-18  New York City  New York   NaN  2134609  36949.0\n",
       "2130518  2022-01-19  New York City  New York   NaN  2145910  37122.0\n",
       "2133770  2022-01-20  New York City  New York   NaN  2159384  37228.0\n",
       "2137024  2022-01-21  New York City  New York   NaN  2171659  37364.0\n",
       "\n",
       "[692 rows x 6 columns]"
      ]
     },
     "execution_count": 54,
     "metadata": {},
     "output_type": "execute_result"
    }
   ],
   "source": [
    "NYC_COVID_Data"
   ]
  },
  {
   "cell_type": "code",
   "execution_count": 55,
   "id": "831e7753-c5dd-42f5-8043-37540b0e100f",
   "metadata": {},
   "outputs": [
    {
     "name": "stderr",
     "output_type": "stream",
     "text": [
      "C:\\Users\\Josh_Wang\\anaconda3\\lib\\site-packages\\pandas\\core\\frame.py:3641: SettingWithCopyWarning: \n",
      "A value is trying to be set on a copy of a slice from a DataFrame.\n",
      "Try using .loc[row_indexer,col_indexer] = value instead\n",
      "\n",
      "See the caveats in the documentation: https://pandas.pydata.org/pandas-docs/stable/user_guide/indexing.html#returning-a-view-versus-a-copy\n",
      "  self[k1] = value[k2]\n"
     ]
    }
   ],
   "source": [
    "NYC_COVID_Data[['previous_date','previous_cases']]=NYC_COVID_Data[['date','cases']].shift(1)\n",
    "#mta_data_daily[[\"PREV_DATE\", \"PREV_ENTRIES\"]] = (mta_data.groupby([\"C/A\", \"UNIT\", \"SCP\", \"STATION\"])[\"DATE\", \"ENTRIES\"].apply(lambda grp: grp.shift(1)))"
   ]
  },
  {
   "cell_type": "code",
   "execution_count": 62,
   "id": "8bc74299-bebf-4b88-9cd4-a33f26019cd7",
   "metadata": {},
   "outputs": [
    {
     "data": {
      "text/html": [
       "<div>\n",
       "<style scoped>\n",
       "    .dataframe tbody tr th:only-of-type {\n",
       "        vertical-align: middle;\n",
       "    }\n",
       "\n",
       "    .dataframe tbody tr th {\n",
       "        vertical-align: top;\n",
       "    }\n",
       "\n",
       "    .dataframe thead th {\n",
       "        text-align: right;\n",
       "    }\n",
       "</style>\n",
       "<table border=\"1\" class=\"dataframe\">\n",
       "  <thead>\n",
       "    <tr style=\"text-align: right;\">\n",
       "      <th></th>\n",
       "      <th>date</th>\n",
       "      <th>cases</th>\n",
       "      <th>previous_date</th>\n",
       "      <th>previous_cases</th>\n",
       "    </tr>\n",
       "  </thead>\n",
       "  <tbody>\n",
       "    <tr>\n",
       "      <th>416</th>\n",
       "      <td>2020-03-01</td>\n",
       "      <td>1</td>\n",
       "      <td>NaN</td>\n",
       "      <td>NaN</td>\n",
       "    </tr>\n",
       "    <tr>\n",
       "      <th>448</th>\n",
       "      <td>2020-03-02</td>\n",
       "      <td>1</td>\n",
       "      <td>2020-03-01</td>\n",
       "      <td>1.0</td>\n",
       "    </tr>\n",
       "    <tr>\n",
       "      <th>482</th>\n",
       "      <td>2020-03-03</td>\n",
       "      <td>2</td>\n",
       "      <td>2020-03-02</td>\n",
       "      <td>1.0</td>\n",
       "    </tr>\n",
       "    <tr>\n",
       "      <th>518</th>\n",
       "      <td>2020-03-04</td>\n",
       "      <td>2</td>\n",
       "      <td>2020-03-03</td>\n",
       "      <td>2.0</td>\n",
       "    </tr>\n",
       "    <tr>\n",
       "      <th>565</th>\n",
       "      <td>2020-03-05</td>\n",
       "      <td>4</td>\n",
       "      <td>2020-03-04</td>\n",
       "      <td>2.0</td>\n",
       "    </tr>\n",
       "    <tr>\n",
       "      <th>...</th>\n",
       "      <td>...</td>\n",
       "      <td>...</td>\n",
       "      <td>...</td>\n",
       "      <td>...</td>\n",
       "    </tr>\n",
       "    <tr>\n",
       "      <th>2124012</th>\n",
       "      <td>2022-01-17</td>\n",
       "      <td>2123721</td>\n",
       "      <td>2022-01-16</td>\n",
       "      <td>2109910.0</td>\n",
       "    </tr>\n",
       "    <tr>\n",
       "      <th>2127264</th>\n",
       "      <td>2022-01-18</td>\n",
       "      <td>2134609</td>\n",
       "      <td>2022-01-17</td>\n",
       "      <td>2123721.0</td>\n",
       "    </tr>\n",
       "    <tr>\n",
       "      <th>2130518</th>\n",
       "      <td>2022-01-19</td>\n",
       "      <td>2145910</td>\n",
       "      <td>2022-01-18</td>\n",
       "      <td>2134609.0</td>\n",
       "    </tr>\n",
       "    <tr>\n",
       "      <th>2133770</th>\n",
       "      <td>2022-01-20</td>\n",
       "      <td>2159384</td>\n",
       "      <td>2022-01-19</td>\n",
       "      <td>2145910.0</td>\n",
       "    </tr>\n",
       "    <tr>\n",
       "      <th>2137024</th>\n",
       "      <td>2022-01-21</td>\n",
       "      <td>2171659</td>\n",
       "      <td>2022-01-20</td>\n",
       "      <td>2159384.0</td>\n",
       "    </tr>\n",
       "  </tbody>\n",
       "</table>\n",
       "<p>692 rows × 4 columns</p>\n",
       "</div>"
      ],
      "text/plain": [
       "               date    cases previous_date  previous_cases\n",
       "416      2020-03-01        1           NaN             NaN\n",
       "448      2020-03-02        1    2020-03-01             1.0\n",
       "482      2020-03-03        2    2020-03-02             1.0\n",
       "518      2020-03-04        2    2020-03-03             2.0\n",
       "565      2020-03-05        4    2020-03-04             2.0\n",
       "...             ...      ...           ...             ...\n",
       "2124012  2022-01-17  2123721    2022-01-16       2109910.0\n",
       "2127264  2022-01-18  2134609    2022-01-17       2123721.0\n",
       "2130518  2022-01-19  2145910    2022-01-18       2134609.0\n",
       "2133770  2022-01-20  2159384    2022-01-19       2145910.0\n",
       "2137024  2022-01-21  2171659    2022-01-20       2159384.0\n",
       "\n",
       "[692 rows x 4 columns]"
      ]
     },
     "execution_count": 62,
     "metadata": {},
     "output_type": "execute_result"
    }
   ],
   "source": [
    "NYC_COVID_Data"
   ]
  },
  {
   "cell_type": "code",
   "execution_count": 57,
   "id": "631a84e0-ba99-43b0-937c-771457116451",
   "metadata": {},
   "outputs": [],
   "source": [
    "#subsetting df\n",
    "NYC_COVID_Data=NYC_COVID_Data[['date','cases','previous_date','previous_cases']]"
   ]
  },
  {
   "cell_type": "code",
   "execution_count": 63,
   "id": "8dda1b0b-02ba-4943-9f83-ff04dd10d857",
   "metadata": {},
   "outputs": [
    {
     "data": {
      "text/plain": [
       "416         True\n",
       "448        False\n",
       "482        False\n",
       "518        False\n",
       "565        False\n",
       "           ...  \n",
       "2124012    False\n",
       "2127264    False\n",
       "2130518    False\n",
       "2133770    False\n",
       "2137024    False\n",
       "Length: 692, dtype: bool"
      ]
     },
     "execution_count": 63,
     "metadata": {},
     "output_type": "execute_result"
    }
   ],
   "source": [
    "#checking presence of NaN\n",
    "NYC_COVID_Data.isna().any(axis=1)"
   ]
  },
  {
   "cell_type": "code",
   "execution_count": 64,
   "id": "80649239-3127-42ea-9e74-7ed16c01c799",
   "metadata": {},
   "outputs": [
    {
     "data": {
      "text/html": [
       "<div>\n",
       "<style scoped>\n",
       "    .dataframe tbody tr th:only-of-type {\n",
       "        vertical-align: middle;\n",
       "    }\n",
       "\n",
       "    .dataframe tbody tr th {\n",
       "        vertical-align: top;\n",
       "    }\n",
       "\n",
       "    .dataframe thead th {\n",
       "        text-align: right;\n",
       "    }\n",
       "</style>\n",
       "<table border=\"1\" class=\"dataframe\">\n",
       "  <thead>\n",
       "    <tr style=\"text-align: right;\">\n",
       "      <th></th>\n",
       "      <th>date</th>\n",
       "      <th>cases</th>\n",
       "      <th>previous_date</th>\n",
       "      <th>previous_cases</th>\n",
       "    </tr>\n",
       "  </thead>\n",
       "  <tbody>\n",
       "    <tr>\n",
       "      <th>416</th>\n",
       "      <td>2020-03-01</td>\n",
       "      <td>1</td>\n",
       "      <td>0</td>\n",
       "      <td>0.0</td>\n",
       "    </tr>\n",
       "    <tr>\n",
       "      <th>448</th>\n",
       "      <td>2020-03-02</td>\n",
       "      <td>1</td>\n",
       "      <td>2020-03-01</td>\n",
       "      <td>1.0</td>\n",
       "    </tr>\n",
       "    <tr>\n",
       "      <th>482</th>\n",
       "      <td>2020-03-03</td>\n",
       "      <td>2</td>\n",
       "      <td>2020-03-02</td>\n",
       "      <td>1.0</td>\n",
       "    </tr>\n",
       "    <tr>\n",
       "      <th>518</th>\n",
       "      <td>2020-03-04</td>\n",
       "      <td>2</td>\n",
       "      <td>2020-03-03</td>\n",
       "      <td>2.0</td>\n",
       "    </tr>\n",
       "    <tr>\n",
       "      <th>565</th>\n",
       "      <td>2020-03-05</td>\n",
       "      <td>4</td>\n",
       "      <td>2020-03-04</td>\n",
       "      <td>2.0</td>\n",
       "    </tr>\n",
       "    <tr>\n",
       "      <th>...</th>\n",
       "      <td>...</td>\n",
       "      <td>...</td>\n",
       "      <td>...</td>\n",
       "      <td>...</td>\n",
       "    </tr>\n",
       "    <tr>\n",
       "      <th>2124012</th>\n",
       "      <td>2022-01-17</td>\n",
       "      <td>2123721</td>\n",
       "      <td>2022-01-16</td>\n",
       "      <td>2109910.0</td>\n",
       "    </tr>\n",
       "    <tr>\n",
       "      <th>2127264</th>\n",
       "      <td>2022-01-18</td>\n",
       "      <td>2134609</td>\n",
       "      <td>2022-01-17</td>\n",
       "      <td>2123721.0</td>\n",
       "    </tr>\n",
       "    <tr>\n",
       "      <th>2130518</th>\n",
       "      <td>2022-01-19</td>\n",
       "      <td>2145910</td>\n",
       "      <td>2022-01-18</td>\n",
       "      <td>2134609.0</td>\n",
       "    </tr>\n",
       "    <tr>\n",
       "      <th>2133770</th>\n",
       "      <td>2022-01-20</td>\n",
       "      <td>2159384</td>\n",
       "      <td>2022-01-19</td>\n",
       "      <td>2145910.0</td>\n",
       "    </tr>\n",
       "    <tr>\n",
       "      <th>2137024</th>\n",
       "      <td>2022-01-21</td>\n",
       "      <td>2171659</td>\n",
       "      <td>2022-01-20</td>\n",
       "      <td>2159384.0</td>\n",
       "    </tr>\n",
       "  </tbody>\n",
       "</table>\n",
       "<p>692 rows × 4 columns</p>\n",
       "</div>"
      ],
      "text/plain": [
       "               date    cases previous_date  previous_cases\n",
       "416      2020-03-01        1             0             0.0\n",
       "448      2020-03-02        1    2020-03-01             1.0\n",
       "482      2020-03-03        2    2020-03-02             1.0\n",
       "518      2020-03-04        2    2020-03-03             2.0\n",
       "565      2020-03-05        4    2020-03-04             2.0\n",
       "...             ...      ...           ...             ...\n",
       "2124012  2022-01-17  2123721    2022-01-16       2109910.0\n",
       "2127264  2022-01-18  2134609    2022-01-17       2123721.0\n",
       "2130518  2022-01-19  2145910    2022-01-18       2134609.0\n",
       "2133770  2022-01-20  2159384    2022-01-19       2145910.0\n",
       "2137024  2022-01-21  2171659    2022-01-20       2159384.0\n",
       "\n",
       "[692 rows x 4 columns]"
      ]
     },
     "execution_count": 64,
     "metadata": {},
     "output_type": "execute_result"
    }
   ],
   "source": [
    "#replace NaN with zero\n",
    "NYC_COVID_Data.fillna(0)"
   ]
  },
  {
   "cell_type": "code",
   "execution_count": 65,
   "id": "fd58cb9c-b08c-4c0d-993c-714b33f0b74a",
   "metadata": {},
   "outputs": [
    {
     "name": "stderr",
     "output_type": "stream",
     "text": [
      "<ipython-input-65-8811400d892b>:1: SettingWithCopyWarning: \n",
      "A value is trying to be set on a copy of a slice from a DataFrame.\n",
      "Try using .loc[row_indexer,col_indexer] = value instead\n",
      "\n",
      "See the caveats in the documentation: https://pandas.pydata.org/pandas-docs/stable/user_guide/indexing.html#returning-a-view-versus-a-copy\n",
      "  NYC_COVID_Data['daily_cases']=NYC_COVID_Data.cases-NYC_COVID_Data.previous_cases\n"
     ]
    }
   ],
   "source": [
    "NYC_COVID_Data['daily_cases']=NYC_COVID_Data.cases-NYC_COVID_Data.previous_cases"
   ]
  },
  {
   "cell_type": "code",
   "execution_count": 66,
   "id": "0297137b-47e6-49c7-bc3d-bd44b188999b",
   "metadata": {},
   "outputs": [
    {
     "name": "stderr",
     "output_type": "stream",
     "text": [
      "<ipython-input-66-d57b54f53e8b>:1: SettingWithCopyWarning: \n",
      "A value is trying to be set on a copy of a slice from a DataFrame.\n",
      "Try using .loc[row_indexer,col_indexer] = value instead\n",
      "\n",
      "See the caveats in the documentation: https://pandas.pydata.org/pandas-docs/stable/user_guide/indexing.html#returning-a-view-versus-a-copy\n",
      "  NYC_COVID_Data['date'] = pd.to_datetime(NYC_COVID_Data['date'])\n"
     ]
    }
   ],
   "source": [
    "NYC_COVID_Data['date'] = pd.to_datetime(NYC_COVID_Data['date'])"
   ]
  },
  {
   "cell_type": "code",
   "execution_count": 67,
   "id": "b8c1f615-6d14-4499-adce-0478bd6ff3e0",
   "metadata": {},
   "outputs": [
    {
     "name": "stderr",
     "output_type": "stream",
     "text": [
      "<ipython-input-67-ffd739536c36>:1: SettingWithCopyWarning: \n",
      "A value is trying to be set on a copy of a slice from a DataFrame.\n",
      "Try using .loc[row_indexer,col_indexer] = value instead\n",
      "\n",
      "See the caveats in the documentation: https://pandas.pydata.org/pandas-docs/stable/user_guide/indexing.html#returning-a-view-versus-a-copy\n",
      "  NYC_COVID_Data['abbrev_date']=NYC_COVID_Data['date'].dt.month_name().str[:3]+' '+NYC_COVID_Data['date'].dt.day.astype(str)\n"
     ]
    }
   ],
   "source": [
    "NYC_COVID_Data['abbrev_date']=NYC_COVID_Data['date'].dt.month_name().str[:3]+' '+NYC_COVID_Data['date'].dt.day.astype(str)"
   ]
  },
  {
   "cell_type": "code",
   "execution_count": 68,
   "id": "85b887dd-934c-43c6-bbb9-e62ebcf401fc",
   "metadata": {},
   "outputs": [
    {
     "name": "stderr",
     "output_type": "stream",
     "text": [
      "<ipython-input-68-34808aa0b23a>:1: SettingWithCopyWarning: \n",
      "A value is trying to be set on a copy of a slice from a DataFrame.\n",
      "Try using .loc[row_indexer,col_indexer] = value instead\n",
      "\n",
      "See the caveats in the documentation: https://pandas.pydata.org/pandas-docs/stable/user_guide/indexing.html#returning-a-view-versus-a-copy\n",
      "  NYC_COVID_Data['rolling_daily_cases']=NYC_COVID_Data.daily_cases.rolling(7).mean()\n"
     ]
    }
   ],
   "source": [
    "NYC_COVID_Data['rolling_daily_cases']=NYC_COVID_Data.daily_cases.rolling(7).mean()"
   ]
  },
  {
   "cell_type": "code",
   "execution_count": 69,
   "id": "032029e4-1a29-4259-bf76-2a1a6c4da334",
   "metadata": {},
   "outputs": [
    {
     "data": {
      "text/html": [
       "<div>\n",
       "<style scoped>\n",
       "    .dataframe tbody tr th:only-of-type {\n",
       "        vertical-align: middle;\n",
       "    }\n",
       "\n",
       "    .dataframe tbody tr th {\n",
       "        vertical-align: top;\n",
       "    }\n",
       "\n",
       "    .dataframe thead th {\n",
       "        text-align: right;\n",
       "    }\n",
       "</style>\n",
       "<table border=\"1\" class=\"dataframe\">\n",
       "  <thead>\n",
       "    <tr style=\"text-align: right;\">\n",
       "      <th></th>\n",
       "      <th>date</th>\n",
       "      <th>cases</th>\n",
       "      <th>previous_date</th>\n",
       "      <th>previous_cases</th>\n",
       "      <th>daily_cases</th>\n",
       "      <th>abbrev_date</th>\n",
       "      <th>rolling_daily_cases</th>\n",
       "    </tr>\n",
       "  </thead>\n",
       "  <tbody>\n",
       "    <tr>\n",
       "      <th>416</th>\n",
       "      <td>2020-03-01</td>\n",
       "      <td>1</td>\n",
       "      <td>NaN</td>\n",
       "      <td>NaN</td>\n",
       "      <td>NaN</td>\n",
       "      <td>Mar 1</td>\n",
       "      <td>NaN</td>\n",
       "    </tr>\n",
       "    <tr>\n",
       "      <th>448</th>\n",
       "      <td>2020-03-02</td>\n",
       "      <td>1</td>\n",
       "      <td>2020-03-01</td>\n",
       "      <td>1.0</td>\n",
       "      <td>0.0</td>\n",
       "      <td>Mar 2</td>\n",
       "      <td>NaN</td>\n",
       "    </tr>\n",
       "    <tr>\n",
       "      <th>482</th>\n",
       "      <td>2020-03-03</td>\n",
       "      <td>2</td>\n",
       "      <td>2020-03-02</td>\n",
       "      <td>1.0</td>\n",
       "      <td>1.0</td>\n",
       "      <td>Mar 3</td>\n",
       "      <td>NaN</td>\n",
       "    </tr>\n",
       "    <tr>\n",
       "      <th>518</th>\n",
       "      <td>2020-03-04</td>\n",
       "      <td>2</td>\n",
       "      <td>2020-03-03</td>\n",
       "      <td>2.0</td>\n",
       "      <td>0.0</td>\n",
       "      <td>Mar 4</td>\n",
       "      <td>NaN</td>\n",
       "    </tr>\n",
       "    <tr>\n",
       "      <th>565</th>\n",
       "      <td>2020-03-05</td>\n",
       "      <td>4</td>\n",
       "      <td>2020-03-04</td>\n",
       "      <td>2.0</td>\n",
       "      <td>2.0</td>\n",
       "      <td>Mar 5</td>\n",
       "      <td>NaN</td>\n",
       "    </tr>\n",
       "  </tbody>\n",
       "</table>\n",
       "</div>"
      ],
      "text/plain": [
       "          date  cases previous_date  previous_cases  daily_cases abbrev_date  \\\n",
       "416 2020-03-01      1           NaN             NaN          NaN       Mar 1   \n",
       "448 2020-03-02      1    2020-03-01             1.0          0.0       Mar 2   \n",
       "482 2020-03-03      2    2020-03-02             1.0          1.0       Mar 3   \n",
       "518 2020-03-04      2    2020-03-03             2.0          0.0       Mar 4   \n",
       "565 2020-03-05      4    2020-03-04             2.0          2.0       Mar 5   \n",
       "\n",
       "     rolling_daily_cases  \n",
       "416                  NaN  \n",
       "448                  NaN  \n",
       "482                  NaN  \n",
       "518                  NaN  \n",
       "565                  NaN  "
      ]
     },
     "execution_count": 69,
     "metadata": {},
     "output_type": "execute_result"
    }
   ],
   "source": [
    "NYC_COVID_Data.head()"
   ]
  },
  {
   "cell_type": "code",
   "execution_count": 70,
   "id": "6cd2d5a4-ebf1-46aa-8221-97947f24b9e4",
   "metadata": {},
   "outputs": [
    {
     "data": {
      "image/png": "[encoded data removed]",
      "text/plain": [
       "<Figure size 1080x720 with 1 Axes>"
      ]
     },
     "metadata": {},
     "output_type": "display_data"
    }
   ],
   "source": [
    "#Plotting NYC covid data\n",
    "plt.figure( figsize = (15, 10))\n",
    "\n",
    "sns.set_style(\"whitegrid\")\n",
    "fig1=sns.lineplot(data=NYC_COVID_Data, \n",
    "                  x='date', \n",
    "                  y='daily_cases', \n",
    "                 #hue=\"Base Name\",\n",
    "                 #palette={'LYFT':'tab:pink','UBER':'black'},\n",
    "                  label = 'Daily Cases'\n",
    "                 )\n",
    "sns.lineplot(data=NYC_COVID_Data,\n",
    "             x = 'date',\n",
    "             y = 'rolling_daily_cases',\n",
    "             label = '7 Day Rolling Average')\n",
    "\n",
    "fig1.xaxis.grid(False)\n",
    "xticks=NYC_COVID_Data.date[::90] #only show tick for every 90 days\n",
    "xlabels=NYC_COVID_Data.abbrev_date[::90] #only show tick for every 90 days\n",
    "plt.xticks(xticks,xlabels,rotation=0) #only show tick for every 90 days\n",
    "plt.xlabel(\"Date\"\n",
    "           #, fontsize = 20\n",
    "          )\n",
    "plt.ylabel(\"Daily Cases\"\n",
    "           #, fontsize = 20\n",
    "          )\n",
    "#plt.tight_layout()\n",
    "#plt.legend(fontsize = 20)\n",
    "plt.title(\"NYC Covid Data\"\n",
    "          #, fontsize = 30\n",
    "         )\n",
    "#fig.yaxis.set_major_formatter(FuncFormatter(millions_formatter))\n",
    "sns.set(font_scale = 2)\n",
    "\n",
    "#fig1.figure.savefig(\"MVP_covid.png\")"
   ]
  },
  {
   "cell_type": "markdown",
   "id": "2388ed90-fde0-4a1b-bf8b-f7fc026da902",
   "metadata": {},
   "source": [
    "## Overlaying COVID data with MAT data"
   ]
  },
  {
   "cell_type": "code",
   "execution_count": 39,
   "id": "2512d059-284b-4570-a9b8-fc9cb892f73b",
   "metadata": {},
   "outputs": [],
   "source": [
    "def get_mta_data(week_nums):\n",
    "    filepath = \"mta_{}_daily.csv\"\n",
    "    dfs = []\n",
    "    for year in years:\n",
    "        file = filepath.format(year)\n",
    "        dfs.append(pd.read_csv(file, sep='\\t'))\n",
    "    return pd.concat(dfs)\n",
    "        \n",
    "years=[2019,2020,2021,2022]\n",
    "mta_df = get_mta_data(years)"
   ]
  },
  {
   "cell_type": "code",
   "execution_count": 40,
   "id": "4a5a5b74-2ee0-4ed4-8b33-16e3bb666a21",
   "metadata": {},
   "outputs": [
    {
     "data": {
      "text/html": [
       "<div>\n",
       "<style scoped>\n",
       "    .dataframe tbody tr th:only-of-type {\n",
       "        vertical-align: middle;\n",
       "    }\n",
       "\n",
       "    .dataframe tbody tr th {\n",
       "        vertical-align: top;\n",
       "    }\n",
       "\n",
       "    .dataframe thead th {\n",
       "        text-align: right;\n",
       "    }\n",
       "</style>\n",
       "<table border=\"1\" class=\"dataframe\">\n",
       "  <thead>\n",
       "    <tr style=\"text-align: right;\">\n",
       "      <th></th>\n",
       "      <th>DATE</th>\n",
       "      <th>DAILY_ENTRIES</th>\n",
       "    </tr>\n",
       "  </thead>\n",
       "  <tbody>\n",
       "    <tr>\n",
       "      <th>0</th>\n",
       "      <td>2018-11-25</td>\n",
       "      <td>2456163.0</td>\n",
       "    </tr>\n",
       "    <tr>\n",
       "      <th>1</th>\n",
       "      <td>2018-11-26</td>\n",
       "      <td>5801635.0</td>\n",
       "    </tr>\n",
       "    <tr>\n",
       "      <th>2</th>\n",
       "      <td>2018-11-27</td>\n",
       "      <td>6163944.0</td>\n",
       "    </tr>\n",
       "    <tr>\n",
       "      <th>3</th>\n",
       "      <td>2018-11-28</td>\n",
       "      <td>6242837.0</td>\n",
       "    </tr>\n",
       "    <tr>\n",
       "      <th>4</th>\n",
       "      <td>2018-11-29</td>\n",
       "      <td>6330155.0</td>\n",
       "    </tr>\n",
       "    <tr>\n",
       "      <th>...</th>\n",
       "      <td>...</td>\n",
       "      <td>...</td>\n",
       "    </tr>\n",
       "    <tr>\n",
       "      <th>15</th>\n",
       "      <td>2022-01-10</td>\n",
       "      <td>1977437.0</td>\n",
       "    </tr>\n",
       "    <tr>\n",
       "      <th>16</th>\n",
       "      <td>2022-01-11</td>\n",
       "      <td>1851748.0</td>\n",
       "    </tr>\n",
       "    <tr>\n",
       "      <th>17</th>\n",
       "      <td>2022-01-12</td>\n",
       "      <td>2158086.0</td>\n",
       "    </tr>\n",
       "    <tr>\n",
       "      <th>18</th>\n",
       "      <td>2022-01-13</td>\n",
       "      <td>2114752.0</td>\n",
       "    </tr>\n",
       "    <tr>\n",
       "      <th>19</th>\n",
       "      <td>2022-01-14</td>\n",
       "      <td>2170819.0</td>\n",
       "    </tr>\n",
       "  </tbody>\n",
       "</table>\n",
       "<p>1172 rows × 2 columns</p>\n",
       "</div>"
      ],
      "text/plain": [
       "          DATE  DAILY_ENTRIES\n",
       "0   2018-11-25      2456163.0\n",
       "1   2018-11-26      5801635.0\n",
       "2   2018-11-27      6163944.0\n",
       "3   2018-11-28      6242837.0\n",
       "4   2018-11-29      6330155.0\n",
       "..         ...            ...\n",
       "15  2022-01-10      1977437.0\n",
       "16  2022-01-11      1851748.0\n",
       "17  2022-01-12      2158086.0\n",
       "18  2022-01-13      2114752.0\n",
       "19  2022-01-14      2170819.0\n",
       "\n",
       "[1172 rows x 2 columns]"
      ]
     },
     "execution_count": 40,
     "metadata": {},
     "output_type": "execute_result"
    }
   ],
   "source": [
    "mta_df"
   ]
  },
  {
   "cell_type": "code",
   "execution_count": 41,
   "id": "821f9e4d-2aaa-495e-bc1d-06d32679fb1c",
   "metadata": {},
   "outputs": [
    {
     "data": {
      "text/html": [
       "<div>\n",
       "<style scoped>\n",
       "    .dataframe tbody tr th:only-of-type {\n",
       "        vertical-align: middle;\n",
       "    }\n",
       "\n",
       "    .dataframe tbody tr th {\n",
       "        vertical-align: top;\n",
       "    }\n",
       "\n",
       "    .dataframe thead th {\n",
       "        text-align: right;\n",
       "    }\n",
       "</style>\n",
       "<table border=\"1\" class=\"dataframe\">\n",
       "  <thead>\n",
       "    <tr style=\"text-align: right;\">\n",
       "      <th></th>\n",
       "      <th>DATE</th>\n",
       "      <th>DAILY_ENTRIES</th>\n",
       "    </tr>\n",
       "  </thead>\n",
       "  <tbody>\n",
       "  </tbody>\n",
       "</table>\n",
       "</div>"
      ],
      "text/plain": [
       "Empty DataFrame\n",
       "Columns: [DATE, DAILY_ENTRIES]\n",
       "Index: []"
      ]
     },
     "execution_count": 41,
     "metadata": {},
     "output_type": "execute_result"
    }
   ],
   "source": [
    "mta_df[mta_df.isna().any(axis=1)]"
   ]
  },
  {
   "cell_type": "code",
   "execution_count": 42,
   "id": "d9a1455a-fb9a-4c49-8a8b-3bf1bdcb5440",
   "metadata": {},
   "outputs": [],
   "source": [
    "mta_df.drop_duplicates(subset=[\"DATE\"], inplace=True)"
   ]
  },
  {
   "cell_type": "code",
   "execution_count": 43,
   "id": "d0bd2c22-087f-4625-b4f9-da4ba8aebdd9",
   "metadata": {},
   "outputs": [
    {
     "data": {
      "text/html": [
       "<div>\n",
       "<style scoped>\n",
       "    .dataframe tbody tr th:only-of-type {\n",
       "        vertical-align: middle;\n",
       "    }\n",
       "\n",
       "    .dataframe tbody tr th {\n",
       "        vertical-align: top;\n",
       "    }\n",
       "\n",
       "    .dataframe thead th {\n",
       "        text-align: right;\n",
       "    }\n",
       "</style>\n",
       "<table border=\"1\" class=\"dataframe\">\n",
       "  <thead>\n",
       "    <tr style=\"text-align: right;\">\n",
       "      <th></th>\n",
       "      <th>DATE</th>\n",
       "      <th>DAILY_ENTRIES</th>\n",
       "    </tr>\n",
       "  </thead>\n",
       "  <tbody>\n",
       "    <tr>\n",
       "      <th>0</th>\n",
       "      <td>2018-11-25</td>\n",
       "      <td>2456163.0</td>\n",
       "    </tr>\n",
       "    <tr>\n",
       "      <th>1</th>\n",
       "      <td>2018-11-26</td>\n",
       "      <td>5801635.0</td>\n",
       "    </tr>\n",
       "    <tr>\n",
       "      <th>2</th>\n",
       "      <td>2018-11-27</td>\n",
       "      <td>6163944.0</td>\n",
       "    </tr>\n",
       "    <tr>\n",
       "      <th>3</th>\n",
       "      <td>2018-11-28</td>\n",
       "      <td>6242837.0</td>\n",
       "    </tr>\n",
       "    <tr>\n",
       "      <th>4</th>\n",
       "      <td>2018-11-29</td>\n",
       "      <td>6330155.0</td>\n",
       "    </tr>\n",
       "    <tr>\n",
       "      <th>...</th>\n",
       "      <td>...</td>\n",
       "      <td>...</td>\n",
       "    </tr>\n",
       "    <tr>\n",
       "      <th>15</th>\n",
       "      <td>2022-01-10</td>\n",
       "      <td>1977437.0</td>\n",
       "    </tr>\n",
       "    <tr>\n",
       "      <th>16</th>\n",
       "      <td>2022-01-11</td>\n",
       "      <td>1851748.0</td>\n",
       "    </tr>\n",
       "    <tr>\n",
       "      <th>17</th>\n",
       "      <td>2022-01-12</td>\n",
       "      <td>2158086.0</td>\n",
       "    </tr>\n",
       "    <tr>\n",
       "      <th>18</th>\n",
       "      <td>2022-01-13</td>\n",
       "      <td>2114752.0</td>\n",
       "    </tr>\n",
       "    <tr>\n",
       "      <th>19</th>\n",
       "      <td>2022-01-14</td>\n",
       "      <td>2170819.0</td>\n",
       "    </tr>\n",
       "  </tbody>\n",
       "</table>\n",
       "<p>1145 rows × 2 columns</p>\n",
       "</div>"
      ],
      "text/plain": [
       "          DATE  DAILY_ENTRIES\n",
       "0   2018-11-25      2456163.0\n",
       "1   2018-11-26      5801635.0\n",
       "2   2018-11-27      6163944.0\n",
       "3   2018-11-28      6242837.0\n",
       "4   2018-11-29      6330155.0\n",
       "..         ...            ...\n",
       "15  2022-01-10      1977437.0\n",
       "16  2022-01-11      1851748.0\n",
       "17  2022-01-12      2158086.0\n",
       "18  2022-01-13      2114752.0\n",
       "19  2022-01-14      2170819.0\n",
       "\n",
       "[1145 rows x 2 columns]"
      ]
     },
     "execution_count": 43,
     "metadata": {},
     "output_type": "execute_result"
    }
   ],
   "source": [
    "mta_df"
   ]
  },
  {
   "cell_type": "code",
   "execution_count": 44,
   "id": "4e918085-6f23-44c7-854a-68484713d09b",
   "metadata": {},
   "outputs": [],
   "source": [
    "mta_df['DATE']=pd.to_datetime(mta_df['DATE'])"
   ]
  },
  {
   "cell_type": "code",
   "execution_count": 135,
   "id": "9d60b7e9-dfec-45f9-8980-e0a46c54f664",
   "metadata": {},
   "outputs": [],
   "source": [
    "mta_df['date_as_string']=mta_df['DATE'].astype(str)"
   ]
  },
  {
   "cell_type": "code",
   "execution_count": 193,
   "id": "d32f59eb-1815-4d5c-8b7a-df2e2ecfa32f",
   "metadata": {},
   "outputs": [],
   "source": [
    "mta_df['rolling_daily_entries']=mta_df.DAILY_ENTRIES.rolling(7).mean()"
   ]
  },
  {
   "cell_type": "code",
   "execution_count": 194,
   "id": "f22e17c9-ede2-43e8-85dc-050b4750e77f",
   "metadata": {},
   "outputs": [],
   "source": [
    "mta_df=mta_df.reset_index()"
   ]
  },
  {
   "cell_type": "code",
   "execution_count": 214,
   "id": "43b55636-a608-40e9-b40b-7b681b52df44",
   "metadata": {},
   "outputs": [],
   "source": [
    "import seaborn as sns\n",
    "import matplotlib.pyplot as plt\n",
    "from matplotlib.ticker import FuncFormatter"
   ]
  },
  {
   "cell_type": "code",
   "execution_count": 246,
   "id": "3c3fdc4b-05a9-4b0b-b1b9-7ea980d23985",
   "metadata": {
    "tags": []
   },
   "outputs": [
    {
     "name": "stderr",
     "output_type": "stream",
     "text": [
      "<ipython-input-246-9fe9af45ea3e>:76: UserWarning: FixedFormatter should only be used together with FixedLocator\n",
      "  ax.set_yticklabels(ax.get_yticks(), size = 13)\n",
      "<ipython-input-246-9fe9af45ea3e>:77: UserWarning: FixedFormatter should only be used together with FixedLocator\n",
      "  ax2.set_yticklabels(ax2.get_yticks(), size = 13)\n"
     ]
    },
    {
     "data": {
      "image/png": "[encoded data removed]",
      "text/plain": [
       "<Figure size 864x576 with 2 Axes>"
      ]
     },
     "metadata": {},
     "output_type": "display_data"
    }
   ],
   "source": [
    "#Plotting NYC covid overlayed with MTA data\n",
    "#plt.figure( figsize = (10, 10))\n",
    "\n",
    "#https://learndataanalysis.org/source-code-format-axis-label-to-thousands-and-millions-suffix-matplotlib-tutorial/\n",
    "#https://stackoverflow.com/questions/61330427/set-y-axis-in-millions\n",
    "#Format Axis Label To Thousands and Millions Suffix\n",
    "def millions_formatter(x, pos):\n",
    "    return f'{x / 1000000}M'\n",
    "\n",
    "\n",
    "fig, ax = plt.subplots(figsize=(12,8))\n",
    "\n",
    "\n",
    "xticks=mta_df.DATE[::90]\n",
    "xlabels=mta_df['date_as_string'][::90]\n",
    "\n",
    "ax.set_facecolor('white')\n",
    "sns.set_style(\"whitegrid\")\n",
    "sns.set_context(\"poster\")\n",
    "sns.despine()\n",
    "\n",
    "ax=sns.lineplot(data=mta_df,\n",
    "                x = 'DATE',\n",
    "                y = 'rolling_daily_entries',\n",
    "                label = 'MTA 7 Day Rolling Average',\n",
    "                legend=False,\n",
    "                color='darkturquoise'\n",
    "               )\n",
    "                \n",
    "ax2 = ax.twinx()\n",
    "                \n",
    "sns.lineplot(data=NYC_COVID_Data,\n",
    "             x = 'date',\n",
    "             y = 'rolling_daily_cases',\n",
    "             label = 'COVID 7 Day Rolling Average',\n",
    "             ax=ax2,\n",
    "             color=\"mediumorchid\",\n",
    "             legend=False\n",
    "             )\n",
    "\n",
    "#ax.yaxis.grid(False)\n",
    "#ax2.yaxis.grid(False)\n",
    "#ax.xaxis.grid(False)\n",
    "#ax2.xaxis.grid(False)\n",
    "\n",
    "#xticks=NYC_COVID_Data.date[::90] #only show tick for every 90 days\n",
    "#xlabels=NYC_COVID_Data.abbrev_date[::90] #only show tick for every 90 days\n",
    "\n",
    "#ax.set_xticklabels(labels=xlabels, rotation=30)\n",
    "\n",
    "#plt.xlabel(\"aergaerg\"\n",
    "           #, fontsize = 20\n",
    "          #)\n",
    "\n",
    "#plt.ylabel(\"Daily Cases\"\n",
    "           #, fontsize = 20\n",
    "          #)\n",
    "\n",
    "ax.set_ylabel('Daily MTA Entries', fontsize = 15)\n",
    "ax2.set_ylabel('Daily COVID Entries', fontsize = 15)\n",
    "ax.set_xlabel('Date', fontsize = 15)\n",
    "\n",
    "\n",
    "#plt.tight_layout()\n",
    "#plt.legend(fontsize = 20)\n",
    "\n",
    "plt.title(\"2019-2022 NYC Covid Data\"\n",
    "          #, fontsize = 30\n",
    "         )\n",
    "\n",
    "fig.legend(fontsize = 15)\n",
    "\n",
    "ax.xaxis.set_ticks(xticks)\n",
    "ax.xaxis.set_ticklabels(xlabels, rotation=45, fontsize = 15)\n",
    "\n",
    "ax.set_yticklabels(ax.get_yticks(), size = 13)\n",
    "ax2.set_yticklabels(ax2.get_yticks(), size = 13)\n",
    "#ax.set_xticklabels(ax2.get_xticklabels(), rotation=45)\n",
    "\n",
    "ax.yaxis.set_major_formatter(FuncFormatter(millions_formatter))\n",
    "\n",
    "fig.tight_layout()\n",
    "sns.set(font_scale = 1)\n",
    "\n",
    "fig.figure.savefig(\"COVID_MTA.png\", dpi=1200)"
   ]
  },
  {
   "cell_type": "code",
   "execution_count": null,
   "id": "9572bd75-1259-4ff3-92f3-b0c4ae31809b",
   "metadata": {},
   "outputs": [],
   "source": []
  }
 ],
 "metadata": {
  "kernelspec": {
   "display_name": "Python 3",
   "language": "python",
   "name": "python3"
  },
  "language_info": {
   "codemirror_mode": {
    "name": "ipython",
    "version": 3
   },
   "file_extension": ".py",
   "mimetype": "text/x-python",
   "name": "python",
   "nbconvert_exporter": "python",
   "pygments_lexer": "ipython3",
   "version": "3.8.8"
  }
 },
 "nbformat": 4,
 "nbformat_minor": 5
}
