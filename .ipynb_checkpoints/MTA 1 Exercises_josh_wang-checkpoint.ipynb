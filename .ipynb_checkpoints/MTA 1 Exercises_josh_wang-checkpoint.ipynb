{
 "cells": [
  {
   "cell_type": "markdown",
   "id": "170cc9c3",
   "metadata": {},
   "source": [
    "# Exercise 1"
   ]
  },
  {
   "cell_type": "code",
   "execution_count": 1,
   "id": "9f2ff581",
   "metadata": {},
   "outputs": [],
   "source": [
    "import pandas as pd"
   ]
  },
  {
   "cell_type": "code",
   "execution_count": 2,
   "id": "ae9b11c2",
   "metadata": {},
   "outputs": [],
   "source": [
    "df160903=pd.read_csv(\"http://web.mta.info/developers/data/nyct/turnstile/turnstile_160903.txt\")"
   ]
  },
  {
   "cell_type": "code",
   "execution_count": 3,
   "id": "9f811e5e",
   "metadata": {},
   "outputs": [],
   "source": [
    "df160910=pd.read_csv(\"http://web.mta.info/developers/data/nyct/turnstile/turnstile_160910.txt\")"
   ]
  },
  {
   "cell_type": "code",
   "execution_count": 4,
   "id": "5dc0a127",
   "metadata": {},
   "outputs": [],
   "source": [
    "df160917=pd.read_csv(\"http://web.mta.info/developers/data/nyct/turnstile/turnstile_160917.txt\")"
   ]
  },
  {
   "cell_type": "code",
   "execution_count": 23,
   "id": "87d705d9",
   "metadata": {},
   "outputs": [],
   "source": [
    "MTAdf=pd.concat([df160903,df160910,df160917])"
   ]
  },
  {
   "cell_type": "code",
   "execution_count": 8,
   "id": "dfeeca69",
   "metadata": {},
   "outputs": [
    {
     "data": {
      "text/plain": [
       "(580895, 11)"
      ]
     },
     "execution_count": 8,
     "metadata": {},
     "output_type": "execute_result"
    }
   ],
   "source": [
    "MTAdf.shape"
   ]
  },
  {
   "cell_type": "code",
   "execution_count": 11,
   "id": "79b4bec0",
   "metadata": {},
   "outputs": [
    {
     "data": {
      "text/plain": [
       "(192878, 11)"
      ]
     },
     "execution_count": 11,
     "metadata": {},
     "output_type": "execute_result"
    }
   ],
   "source": [
    "df160917.shape"
   ]
  },
  {
   "cell_type": "markdown",
   "id": "df463323",
   "metadata": {},
   "source": [
    "# Exercise 2"
   ]
  },
  {
   "cell_type": "code",
   "execution_count": 24,
   "id": "d7dd70a3",
   "metadata": {},
   "outputs": [
    {
     "data": {
      "text/html": [
       "<div>\n",
       "<style scoped>\n",
       "    .dataframe tbody tr th:only-of-type {\n",
       "        vertical-align: middle;\n",
       "    }\n",
       "\n",
       "    .dataframe tbody tr th {\n",
       "        vertical-align: top;\n",
       "    }\n",
       "\n",
       "    .dataframe thead th {\n",
       "        text-align: right;\n",
       "    }\n",
       "</style>\n",
       "<table border=\"1\" class=\"dataframe\">\n",
       "  <thead>\n",
       "    <tr style=\"text-align: right;\">\n",
       "      <th></th>\n",
       "      <th>C/A</th>\n",
       "      <th>UNIT</th>\n",
       "      <th>SCP</th>\n",
       "      <th>STATION</th>\n",
       "      <th>LINENAME</th>\n",
       "      <th>DIVISION</th>\n",
       "      <th>DATE</th>\n",
       "      <th>TIME</th>\n",
       "      <th>DESC</th>\n",
       "      <th>ENTRIES</th>\n",
       "      <th>EXITS</th>\n",
       "    </tr>\n",
       "  </thead>\n",
       "  <tbody>\n",
       "    <tr>\n",
       "      <th>0</th>\n",
       "      <td>A002</td>\n",
       "      <td>R051</td>\n",
       "      <td>02-00-00</td>\n",
       "      <td>59 ST</td>\n",
       "      <td>NQR456</td>\n",
       "      <td>BMT</td>\n",
       "      <td>08/27/2016</td>\n",
       "      <td>00:00:00</td>\n",
       "      <td>REGULAR</td>\n",
       "      <td>5799442</td>\n",
       "      <td>1966041</td>\n",
       "    </tr>\n",
       "    <tr>\n",
       "      <th>1</th>\n",
       "      <td>A002</td>\n",
       "      <td>R051</td>\n",
       "      <td>02-00-00</td>\n",
       "      <td>59 ST</td>\n",
       "      <td>NQR456</td>\n",
       "      <td>BMT</td>\n",
       "      <td>08/27/2016</td>\n",
       "      <td>04:00:00</td>\n",
       "      <td>REGULAR</td>\n",
       "      <td>5799463</td>\n",
       "      <td>1966044</td>\n",
       "    </tr>\n",
       "    <tr>\n",
       "      <th>2</th>\n",
       "      <td>A002</td>\n",
       "      <td>R051</td>\n",
       "      <td>02-00-00</td>\n",
       "      <td>59 ST</td>\n",
       "      <td>NQR456</td>\n",
       "      <td>BMT</td>\n",
       "      <td>08/27/2016</td>\n",
       "      <td>08:00:00</td>\n",
       "      <td>REGULAR</td>\n",
       "      <td>5799492</td>\n",
       "      <td>1966079</td>\n",
       "    </tr>\n",
       "    <tr>\n",
       "      <th>3</th>\n",
       "      <td>A002</td>\n",
       "      <td>R051</td>\n",
       "      <td>02-00-00</td>\n",
       "      <td>59 ST</td>\n",
       "      <td>NQR456</td>\n",
       "      <td>BMT</td>\n",
       "      <td>08/27/2016</td>\n",
       "      <td>12:00:00</td>\n",
       "      <td>REGULAR</td>\n",
       "      <td>5799610</td>\n",
       "      <td>1966155</td>\n",
       "    </tr>\n",
       "    <tr>\n",
       "      <th>4</th>\n",
       "      <td>A002</td>\n",
       "      <td>R051</td>\n",
       "      <td>02-00-00</td>\n",
       "      <td>59 ST</td>\n",
       "      <td>NQR456</td>\n",
       "      <td>BMT</td>\n",
       "      <td>08/27/2016</td>\n",
       "      <td>16:00:00</td>\n",
       "      <td>REGULAR</td>\n",
       "      <td>5799833</td>\n",
       "      <td>1966214</td>\n",
       "    </tr>\n",
       "  </tbody>\n",
       "</table>\n",
       "</div>"
      ],
      "text/plain": [
       "    C/A  UNIT       SCP STATION LINENAME DIVISION        DATE      TIME  \\\n",
       "0  A002  R051  02-00-00   59 ST   NQR456      BMT  08/27/2016  00:00:00   \n",
       "1  A002  R051  02-00-00   59 ST   NQR456      BMT  08/27/2016  04:00:00   \n",
       "2  A002  R051  02-00-00   59 ST   NQR456      BMT  08/27/2016  08:00:00   \n",
       "3  A002  R051  02-00-00   59 ST   NQR456      BMT  08/27/2016  12:00:00   \n",
       "4  A002  R051  02-00-00   59 ST   NQR456      BMT  08/27/2016  16:00:00   \n",
       "\n",
       "      DESC  ENTRIES  \\\n",
       "0  REGULAR  5799442   \n",
       "1  REGULAR  5799463   \n",
       "2  REGULAR  5799492   \n",
       "3  REGULAR  5799610   \n",
       "4  REGULAR  5799833   \n",
       "\n",
       "   EXITS                                                                 \n",
       "0                                            1966041                     \n",
       "1                                            1966044                     \n",
       "2                                            1966079                     \n",
       "3                                            1966155                     \n",
       "4                                            1966214                     "
      ]
     },
     "execution_count": 24,
     "metadata": {},
     "output_type": "execute_result"
    }
   ],
   "source": [
    "MTAdf.head()"
   ]
  },
  {
   "cell_type": "code",
   "execution_count": 16,
   "id": "4d28bf17",
   "metadata": {},
   "outputs": [
    {
     "data": {
      "text/plain": [
       "C/A                                                                     object\n",
       "UNIT                                                                    object\n",
       "SCP                                                                     object\n",
       "STATION                                                                 object\n",
       "LINENAME                                                                object\n",
       "DIVISION                                                                object\n",
       "DATE                                                                    object\n",
       "TIME                                                                    object\n",
       "DESC                                                                    object\n",
       "ENTRIES                                                                  int64\n",
       "EXITS                                                                    int64\n",
       "dtype: object"
      ]
     },
     "execution_count": 16,
     "metadata": {},
     "output_type": "execute_result"
    }
   ],
   "source": [
    "MTAdf.dtypes"
   ]
  },
  {
   "cell_type": "code",
   "execution_count": 25,
   "id": "d60616c2",
   "metadata": {},
   "outputs": [],
   "source": [
    "MTAdf['DATE'] = pd.to_datetime(MTAdf.DATE)"
   ]
  },
  {
   "cell_type": "code",
   "execution_count": 26,
   "id": "6ac59af7",
   "metadata": {},
   "outputs": [
    {
     "data": {
      "text/plain": [
       "C/A                                                                             object\n",
       "UNIT                                                                            object\n",
       "SCP                                                                             object\n",
       "STATION                                                                         object\n",
       "LINENAME                                                                        object\n",
       "DIVISION                                                                        object\n",
       "DATE                                                                    datetime64[ns]\n",
       "TIME                                                                            object\n",
       "DESC                                                                            object\n",
       "ENTRIES                                                                          int64\n",
       "EXITS                                                                            int64\n",
       "dtype: object"
      ]
     },
     "execution_count": 26,
     "metadata": {},
     "output_type": "execute_result"
    }
   ],
   "source": [
    "MTAdf.dtypes"
   ]
  },
  {
   "cell_type": "code",
   "execution_count": 30,
   "id": "901e1e1a",
   "metadata": {},
   "outputs": [],
   "source": [
    "MTAdf['DATETIME']=pd.to_datetime(MTAdf['DATE'].astype(str) +' '+ MTAdf['TIME'].astype(str))"
   ]
  },
  {
   "cell_type": "code",
   "execution_count": 31,
   "id": "84b258c7",
   "metadata": {},
   "outputs": [
    {
     "data": {
      "text/plain": [
       "C/A                                                                             object\n",
       "UNIT                                                                            object\n",
       "SCP                                                                             object\n",
       "STATION                                                                         object\n",
       "LINENAME                                                                        object\n",
       "DIVISION                                                                        object\n",
       "DATE                                                                    datetime64[ns]\n",
       "TIME                                                                            object\n",
       "DESC                                                                            object\n",
       "ENTRIES                                                                          int64\n",
       "EXITS                                                                            int64\n",
       "DATETIME                                                                datetime64[ns]\n",
       "dtype: object"
      ]
     },
     "execution_count": 31,
     "metadata": {},
     "output_type": "execute_result"
    }
   ],
   "source": [
    "MTAdf.dtypes"
   ]
  },
  {
   "cell_type": "code",
   "execution_count": 32,
   "id": "a9b33b01",
   "metadata": {},
   "outputs": [
    {
     "data": {
      "text/html": [
       "<div>\n",
       "<style scoped>\n",
       "    .dataframe tbody tr th:only-of-type {\n",
       "        vertical-align: middle;\n",
       "    }\n",
       "\n",
       "    .dataframe tbody tr th {\n",
       "        vertical-align: top;\n",
       "    }\n",
       "\n",
       "    .dataframe thead th {\n",
       "        text-align: right;\n",
       "    }\n",
       "</style>\n",
       "<table border=\"1\" class=\"dataframe\">\n",
       "  <thead>\n",
       "    <tr style=\"text-align: right;\">\n",
       "      <th></th>\n",
       "      <th>C/A</th>\n",
       "      <th>UNIT</th>\n",
       "      <th>SCP</th>\n",
       "      <th>STATION</th>\n",
       "      <th>LINENAME</th>\n",
       "      <th>DIVISION</th>\n",
       "      <th>DATE</th>\n",
       "      <th>TIME</th>\n",
       "      <th>DESC</th>\n",
       "      <th>ENTRIES</th>\n",
       "      <th>EXITS</th>\n",
       "      <th>DATETIME</th>\n",
       "    </tr>\n",
       "  </thead>\n",
       "  <tbody>\n",
       "    <tr>\n",
       "      <th>0</th>\n",
       "      <td>A002</td>\n",
       "      <td>R051</td>\n",
       "      <td>02-00-00</td>\n",
       "      <td>59 ST</td>\n",
       "      <td>NQR456</td>\n",
       "      <td>BMT</td>\n",
       "      <td>2016-08-27</td>\n",
       "      <td>00:00:00</td>\n",
       "      <td>REGULAR</td>\n",
       "      <td>5799442</td>\n",
       "      <td>1966041</td>\n",
       "      <td>2016-08-27 00:00:00</td>\n",
       "    </tr>\n",
       "    <tr>\n",
       "      <th>1</th>\n",
       "      <td>A002</td>\n",
       "      <td>R051</td>\n",
       "      <td>02-00-00</td>\n",
       "      <td>59 ST</td>\n",
       "      <td>NQR456</td>\n",
       "      <td>BMT</td>\n",
       "      <td>2016-08-27</td>\n",
       "      <td>04:00:00</td>\n",
       "      <td>REGULAR</td>\n",
       "      <td>5799463</td>\n",
       "      <td>1966044</td>\n",
       "      <td>2016-08-27 04:00:00</td>\n",
       "    </tr>\n",
       "    <tr>\n",
       "      <th>2</th>\n",
       "      <td>A002</td>\n",
       "      <td>R051</td>\n",
       "      <td>02-00-00</td>\n",
       "      <td>59 ST</td>\n",
       "      <td>NQR456</td>\n",
       "      <td>BMT</td>\n",
       "      <td>2016-08-27</td>\n",
       "      <td>08:00:00</td>\n",
       "      <td>REGULAR</td>\n",
       "      <td>5799492</td>\n",
       "      <td>1966079</td>\n",
       "      <td>2016-08-27 08:00:00</td>\n",
       "    </tr>\n",
       "    <tr>\n",
       "      <th>3</th>\n",
       "      <td>A002</td>\n",
       "      <td>R051</td>\n",
       "      <td>02-00-00</td>\n",
       "      <td>59 ST</td>\n",
       "      <td>NQR456</td>\n",
       "      <td>BMT</td>\n",
       "      <td>2016-08-27</td>\n",
       "      <td>12:00:00</td>\n",
       "      <td>REGULAR</td>\n",
       "      <td>5799610</td>\n",
       "      <td>1966155</td>\n",
       "      <td>2016-08-27 12:00:00</td>\n",
       "    </tr>\n",
       "    <tr>\n",
       "      <th>4</th>\n",
       "      <td>A002</td>\n",
       "      <td>R051</td>\n",
       "      <td>02-00-00</td>\n",
       "      <td>59 ST</td>\n",
       "      <td>NQR456</td>\n",
       "      <td>BMT</td>\n",
       "      <td>2016-08-27</td>\n",
       "      <td>16:00:00</td>\n",
       "      <td>REGULAR</td>\n",
       "      <td>5799833</td>\n",
       "      <td>1966214</td>\n",
       "      <td>2016-08-27 16:00:00</td>\n",
       "    </tr>\n",
       "    <tr>\n",
       "      <th>...</th>\n",
       "      <td>...</td>\n",
       "      <td>...</td>\n",
       "      <td>...</td>\n",
       "      <td>...</td>\n",
       "      <td>...</td>\n",
       "      <td>...</td>\n",
       "      <td>...</td>\n",
       "      <td>...</td>\n",
       "      <td>...</td>\n",
       "      <td>...</td>\n",
       "      <td>...</td>\n",
       "      <td>...</td>\n",
       "    </tr>\n",
       "    <tr>\n",
       "      <th>192873</th>\n",
       "      <td>TRAM2</td>\n",
       "      <td>R469</td>\n",
       "      <td>00-05-01</td>\n",
       "      <td>RIT-ROOSEVELT</td>\n",
       "      <td>R</td>\n",
       "      <td>RIT</td>\n",
       "      <td>2016-09-16</td>\n",
       "      <td>05:00:00</td>\n",
       "      <td>REGULAR</td>\n",
       "      <td>5554</td>\n",
       "      <td>271</td>\n",
       "      <td>2016-09-16 05:00:00</td>\n",
       "    </tr>\n",
       "    <tr>\n",
       "      <th>192874</th>\n",
       "      <td>TRAM2</td>\n",
       "      <td>R469</td>\n",
       "      <td>00-05-01</td>\n",
       "      <td>RIT-ROOSEVELT</td>\n",
       "      <td>R</td>\n",
       "      <td>RIT</td>\n",
       "      <td>2016-09-16</td>\n",
       "      <td>09:00:00</td>\n",
       "      <td>REGULAR</td>\n",
       "      <td>5554</td>\n",
       "      <td>271</td>\n",
       "      <td>2016-09-16 09:00:00</td>\n",
       "    </tr>\n",
       "    <tr>\n",
       "      <th>192875</th>\n",
       "      <td>TRAM2</td>\n",
       "      <td>R469</td>\n",
       "      <td>00-05-01</td>\n",
       "      <td>RIT-ROOSEVELT</td>\n",
       "      <td>R</td>\n",
       "      <td>RIT</td>\n",
       "      <td>2016-09-16</td>\n",
       "      <td>13:00:00</td>\n",
       "      <td>REGULAR</td>\n",
       "      <td>5554</td>\n",
       "      <td>271</td>\n",
       "      <td>2016-09-16 13:00:00</td>\n",
       "    </tr>\n",
       "    <tr>\n",
       "      <th>192876</th>\n",
       "      <td>TRAM2</td>\n",
       "      <td>R469</td>\n",
       "      <td>00-05-01</td>\n",
       "      <td>RIT-ROOSEVELT</td>\n",
       "      <td>R</td>\n",
       "      <td>RIT</td>\n",
       "      <td>2016-09-16</td>\n",
       "      <td>17:00:00</td>\n",
       "      <td>REGULAR</td>\n",
       "      <td>5554</td>\n",
       "      <td>271</td>\n",
       "      <td>2016-09-16 17:00:00</td>\n",
       "    </tr>\n",
       "    <tr>\n",
       "      <th>192877</th>\n",
       "      <td>TRAM2</td>\n",
       "      <td>R469</td>\n",
       "      <td>00-05-01</td>\n",
       "      <td>RIT-ROOSEVELT</td>\n",
       "      <td>R</td>\n",
       "      <td>RIT</td>\n",
       "      <td>2016-09-16</td>\n",
       "      <td>21:00:00</td>\n",
       "      <td>REGULAR</td>\n",
       "      <td>5554</td>\n",
       "      <td>271</td>\n",
       "      <td>2016-09-16 21:00:00</td>\n",
       "    </tr>\n",
       "  </tbody>\n",
       "</table>\n",
       "<p>580895 rows × 12 columns</p>\n",
       "</div>"
      ],
      "text/plain": [
       "          C/A  UNIT       SCP        STATION LINENAME DIVISION       DATE  \\\n",
       "0        A002  R051  02-00-00          59 ST   NQR456      BMT 2016-08-27   \n",
       "1        A002  R051  02-00-00          59 ST   NQR456      BMT 2016-08-27   \n",
       "2        A002  R051  02-00-00          59 ST   NQR456      BMT 2016-08-27   \n",
       "3        A002  R051  02-00-00          59 ST   NQR456      BMT 2016-08-27   \n",
       "4        A002  R051  02-00-00          59 ST   NQR456      BMT 2016-08-27   \n",
       "...       ...   ...       ...            ...      ...      ...        ...   \n",
       "192873  TRAM2  R469  00-05-01  RIT-ROOSEVELT        R      RIT 2016-09-16   \n",
       "192874  TRAM2  R469  00-05-01  RIT-ROOSEVELT        R      RIT 2016-09-16   \n",
       "192875  TRAM2  R469  00-05-01  RIT-ROOSEVELT        R      RIT 2016-09-16   \n",
       "192876  TRAM2  R469  00-05-01  RIT-ROOSEVELT        R      RIT 2016-09-16   \n",
       "192877  TRAM2  R469  00-05-01  RIT-ROOSEVELT        R      RIT 2016-09-16   \n",
       "\n",
       "            TIME     DESC  ENTRIES  \\\n",
       "0       00:00:00  REGULAR  5799442   \n",
       "1       04:00:00  REGULAR  5799463   \n",
       "2       08:00:00  REGULAR  5799492   \n",
       "3       12:00:00  REGULAR  5799610   \n",
       "4       16:00:00  REGULAR  5799833   \n",
       "...          ...      ...      ...   \n",
       "192873  05:00:00  REGULAR     5554   \n",
       "192874  09:00:00  REGULAR     5554   \n",
       "192875  13:00:00  REGULAR     5554   \n",
       "192876  17:00:00  REGULAR     5554   \n",
       "192877  21:00:00  REGULAR     5554   \n",
       "\n",
       "        EXITS                                                                 \\\n",
       "0                                                 1966041                      \n",
       "1                                                 1966044                      \n",
       "2                                                 1966079                      \n",
       "3                                                 1966155                      \n",
       "4                                                 1966214                      \n",
       "...                                                   ...                      \n",
       "192873                                                271                      \n",
       "192874                                                271                      \n",
       "192875                                                271                      \n",
       "192876                                                271                      \n",
       "192877                                                271                      \n",
       "\n",
       "                  DATETIME  \n",
       "0      2016-08-27 00:00:00  \n",
       "1      2016-08-27 04:00:00  \n",
       "2      2016-08-27 08:00:00  \n",
       "3      2016-08-27 12:00:00  \n",
       "4      2016-08-27 16:00:00  \n",
       "...                    ...  \n",
       "192873 2016-09-16 05:00:00  \n",
       "192874 2016-09-16 09:00:00  \n",
       "192875 2016-09-16 13:00:00  \n",
       "192876 2016-09-16 17:00:00  \n",
       "192877 2016-09-16 21:00:00  \n",
       "\n",
       "[580895 rows x 12 columns]"
      ]
     },
     "execution_count": 32,
     "metadata": {},
     "output_type": "execute_result"
    }
   ],
   "source": [
    "MTAdf"
   ]
  },
  {
   "cell_type": "markdown",
   "id": "2ba7cab8",
   "metadata": {},
   "source": [
    "# Exercise 3a"
   ]
  },
  {
   "cell_type": "code",
   "execution_count": 36,
   "id": "08ddc134",
   "metadata": {},
   "outputs": [],
   "source": [
    "grp=MTAdf.groupby(['C/A','UNIT','SCP','STATION','DATE']).ENTRIES.max()"
   ]
  },
  {
   "cell_type": "code",
   "execution_count": 38,
   "id": "a2dd300f",
   "metadata": {},
   "outputs": [
    {
     "data": {
      "text/plain": [
       "C/A   UNIT  SCP       STATION  DATE      \n",
       "A002  R051  02-00-00  59 ST    2016-08-27    5800121\n",
       "                               2016-08-28    5800798\n",
       "                               2016-08-29    5802336\n",
       "                               2016-08-30    5803875\n",
       "                               2016-08-31    5805383\n",
       "                               2016-09-01    5806990\n",
       "                               2016-09-02    5808616\n",
       "                               2016-09-03    5809522\n",
       "                               2016-09-04    5810188\n",
       "                               2016-09-05    5810871\n",
       "                               2016-09-06    5812270\n",
       "                               2016-09-07    5813804\n",
       "                               2016-09-08    5815567\n",
       "                               2016-09-09    5817253\n",
       "                               2016-09-10    5818247\n",
       "                               2016-09-11    5818974\n",
       "                               2016-09-12    5820548\n",
       "                               2016-09-13    5822272\n",
       "                               2016-09-14    5824032\n",
       "                               2016-09-15    5825807\n",
       "                               2016-09-16    5827597\n",
       "            02-00-01  59 ST    2016-08-27    5330070\n",
       "                               2016-08-28    5330665\n",
       "                               2016-08-29    5331919\n",
       "                               2016-08-30    5333205\n",
       "                               2016-08-31    5334478\n",
       "                               2016-09-01    5335791\n",
       "                               2016-09-02    5337013\n",
       "                               2016-09-03    5337758\n",
       "                               2016-09-04    5338325\n",
       "                               2016-09-05    5338911\n",
       "                               2016-09-06    5340098\n",
       "                               2016-09-07    5341134\n",
       "                               2016-09-08    5342630\n",
       "                               2016-09-09    5343988\n",
       "                               2016-09-10    5344852\n",
       "                               2016-09-11    5345527\n",
       "                               2016-09-12    5346829\n",
       "                               2016-09-13    5348307\n",
       "                               2016-09-14    5349791\n",
       "                               2016-09-15    5351197\n",
       "                               2016-09-16    5352683\n",
       "            02-03-00  59 ST    2016-08-27     757618\n",
       "                               2016-08-28     757953\n",
       "                               2016-08-29     758483\n",
       "                               2016-08-30     759054\n",
       "                               2016-08-31     759664\n",
       "                               2016-09-01     760252\n",
       "                               2016-09-02     760841\n",
       "                               2016-09-03     761245\n",
       "Name: ENTRIES, dtype: int64"
      ]
     },
     "execution_count": 38,
     "metadata": {},
     "output_type": "execute_result"
    }
   ],
   "source": [
    "grp.head(50)"
   ]
  },
  {
   "cell_type": "code",
   "execution_count": null,
   "id": "efc0b149",
   "metadata": {},
   "outputs": [],
   "source": []
  }
 ],
 "metadata": {
  "kernelspec": {
   "display_name": "Python 3",
   "language": "python",
   "name": "python3"
  },
  "language_info": {
   "codemirror_mode": {
    "name": "ipython",
    "version": 3
   },
   "file_extension": ".py",
   "mimetype": "text/x-python",
   "name": "python",
   "nbconvert_exporter": "python",
   "pygments_lexer": "ipython3",
   "version": "3.8.8"
  }
 },
 "nbformat": 4,
 "nbformat_minor": 5
}
